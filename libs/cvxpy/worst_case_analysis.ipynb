{
 "cells": [
  {
   "cell_type": "markdown",
   "metadata": {},
   "source": [
    "# Worst-case risk analysis\n",
    "\n",
    "* https://colab.research.google.com/github/cvxgrp/cvx_short_course/blob/master/applications/worst_case_analysis.ipynb"
   ]
  },
  {
   "cell_type": "markdown",
   "metadata": {},
   "source": [
    "### Covariance uncertainty\n",
    "\n",
    "In this example we do worst-case risk analysis using CVXPY. \n",
    "Our setting is a single period Markowitz portfolio allocation problem.\n",
    "We have a fixed portfolio allocation $w \\in {\\bf R}^n$. The return covariance $\\Sigma$ is not known,\n",
    "but we believe $\\Sigma \\in \\mathcal S$.\n",
    "Here $\\mathcal S$ is a convex set of possible covariance matrices.\n",
    "The risk is $w^T \\Sigma w$, a linear function of $\\Sigma$.\n",
    "\n",
    "We can compute the worst (maximum) risk, over all possible covariance matrices by solving the convex optimization \n",
    "problem\n",
    "\n",
    "$$\n",
    "\\begin{array}{ll} \\mbox{maximize} & w^T\\Sigma w \\\\\n",
    "\\mbox{subject to} & \\Sigma \\in \\mathcal S, \\quad \\Sigma \\succeq 0,\n",
    "\\end{array}\n",
    "$$\n",
    "\n",
    "with variable $\\Sigma$.\n",
    "\n",
    "If the worst-case risk is not too bad, you can worry less.\n",
    "If not, you'll confront your worst nightmare"
   ]
  },
  {
   "cell_type": "code",
   "execution_count": 1,
   "metadata": {},
   "outputs": [
    {
     "name": "stdout",
     "output_type": "stream",
     "text": [
      "Sigma_nom =\n",
      "[[ 0.58  0.2   0.57 -0.02  0.43]\n",
      " [ 0.2   0.36  0.24  0.    0.38]\n",
      " [ 0.57  0.24  0.57 -0.01  0.47]\n",
      " [-0.02  0.   -0.01  0.05  0.08]\n",
      " [ 0.43  0.38  0.47  0.08  0.92]]\n"
     ]
    }
   ],
   "source": [
    "# Generate data for worst-case risk analysis.\n",
    "import numpy as np\n",
    "np.random.seed(2)\n",
    "n = 5\n",
    "mu = np.abs(np.random.randn(n, 1))/15\n",
    "Sigma = np.random.uniform(-.15, .8, size=(n, n))\n",
    "Sigma_nom = Sigma.T.dot(Sigma)\n",
    "print(\"Sigma_nom =\")\n",
    "print(np.round(Sigma_nom, decimals=2))"
   ]
  },
  {
   "cell_type": "code",
   "execution_count": 2,
   "metadata": {},
   "outputs": [
    {
     "name": "stdout",
     "output_type": "stream",
     "text": [
      "w =\n",
      "[-0.01  0.13  0.18  0.88 -0.18]\n"
     ]
    }
   ],
   "source": [
    "# Form and solve portfolio optimization problem.\n",
    "# Here we minimize risk while requiring a 0.1 return.\n",
    "import cvxpy as cp\n",
    "\n",
    "\n",
    "w = cp.Variable(n)\n",
    "ret = mu.T*w \n",
    "risk = cp.quad_form(w, Sigma_nom)\n",
    "prob = cp.Problem(cp.Minimize(risk), \n",
    "               [cp.sum(w) == 1, \n",
    "                ret >= 0.1,\n",
    "                cp.norm(w, 1) <= 2])\n",
    "prob.solve()\n",
    "print(\"w =\")\n",
    "print(np.round(w.value, decimals=2))"
   ]
  },
  {
   "cell_type": "code",
   "execution_count": 5,
   "metadata": {},
   "outputs": [
    {
     "name": "stderr",
     "output_type": "stream",
     "text": [
      "error parsing inputs\n"
     ]
    },
    {
     "ename": "TypeError",
     "evalue": "argument 9 must be bool, not int",
     "output_type": "error",
     "traceback": [
      "\u001b[0;31m---------------------------------------------------------------------------\u001b[0m",
      "\u001b[0;31mTypeError\u001b[0m                                 Traceback (most recent call last)",
      "\u001b[0;32m<ipython-input-5-efa01ce0a034>\u001b[0m in \u001b[0;36m<module>\u001b[0;34m\u001b[0m\n\u001b[1;32m      7\u001b[0m                 \u001b[0mcp\u001b[0m\u001b[0;34m.\u001b[0m\u001b[0mdiag\u001b[0m\u001b[0;34m(\u001b[0m\u001b[0mDelta\u001b[0m\u001b[0;34m)\u001b[0m \u001b[0;34m==\u001b[0m \u001b[0;36m0\u001b[0m\u001b[0;34m,\u001b[0m\u001b[0;34m\u001b[0m\u001b[0;34m\u001b[0m\u001b[0m\n\u001b[1;32m      8\u001b[0m                 cp.abs(Delta) <= 0.2])\n\u001b[0;32m----> 9\u001b[0;31m \u001b[0mprob\u001b[0m\u001b[0;34m.\u001b[0m\u001b[0msolve\u001b[0m\u001b[0;34m(\u001b[0m\u001b[0mverbose\u001b[0m\u001b[0;34m=\u001b[0m\u001b[0;36m2\u001b[0m\u001b[0;34m)\u001b[0m\u001b[0;34m\u001b[0m\u001b[0;34m\u001b[0m\u001b[0m\n\u001b[0m\u001b[1;32m     10\u001b[0m \u001b[0mprint\u001b[0m\u001b[0;34m(\u001b[0m\u001b[0;34m\"standard deviation =\"\u001b[0m\u001b[0;34m,\u001b[0m \u001b[0mcp\u001b[0m\u001b[0;34m.\u001b[0m\u001b[0msqrt\u001b[0m\u001b[0;34m(\u001b[0m\u001b[0mcp\u001b[0m\u001b[0;34m.\u001b[0m\u001b[0mquad_form\u001b[0m\u001b[0;34m(\u001b[0m\u001b[0mw\u001b[0m\u001b[0;34m.\u001b[0m\u001b[0mvalue\u001b[0m\u001b[0;34m,\u001b[0m \u001b[0mSigma_nom\u001b[0m\u001b[0;34m)\u001b[0m\u001b[0;34m)\u001b[0m\u001b[0;34m.\u001b[0m\u001b[0mvalue\u001b[0m\u001b[0;34m)\u001b[0m\u001b[0;34m\u001b[0m\u001b[0;34m\u001b[0m\u001b[0m\n\u001b[1;32m     11\u001b[0m \u001b[0mprint\u001b[0m\u001b[0;34m(\u001b[0m\u001b[0;34m\"worst-case standard deviation =\"\u001b[0m\u001b[0;34m,\u001b[0m \u001b[0mcp\u001b[0m\u001b[0;34m.\u001b[0m\u001b[0msqrt\u001b[0m\u001b[0;34m(\u001b[0m\u001b[0mrisk\u001b[0m\u001b[0;34m)\u001b[0m\u001b[0;34m.\u001b[0m\u001b[0mvalue\u001b[0m\u001b[0;34m)\u001b[0m\u001b[0;34m\u001b[0m\u001b[0;34m\u001b[0m\u001b[0m\n",
      "\u001b[0;32m/usr/local/lib/python3.7/dist-packages/cvxpy/problems/problem.py\u001b[0m in \u001b[0;36msolve\u001b[0;34m(self, *args, **kwargs)\u001b[0m\n\u001b[1;32m    287\u001b[0m         \u001b[0;32melse\u001b[0m\u001b[0;34m:\u001b[0m\u001b[0;34m\u001b[0m\u001b[0;34m\u001b[0m\u001b[0m\n\u001b[1;32m    288\u001b[0m             \u001b[0msolve_func\u001b[0m \u001b[0;34m=\u001b[0m \u001b[0mProblem\u001b[0m\u001b[0;34m.\u001b[0m\u001b[0m_solve\u001b[0m\u001b[0;34m\u001b[0m\u001b[0;34m\u001b[0m\u001b[0m\n\u001b[0;32m--> 289\u001b[0;31m         \u001b[0;32mreturn\u001b[0m \u001b[0msolve_func\u001b[0m\u001b[0;34m(\u001b[0m\u001b[0mself\u001b[0m\u001b[0;34m,\u001b[0m \u001b[0;34m*\u001b[0m\u001b[0margs\u001b[0m\u001b[0;34m,\u001b[0m \u001b[0;34m**\u001b[0m\u001b[0mkwargs\u001b[0m\u001b[0;34m)\u001b[0m\u001b[0;34m\u001b[0m\u001b[0;34m\u001b[0m\u001b[0m\n\u001b[0m\u001b[1;32m    290\u001b[0m \u001b[0;34m\u001b[0m\u001b[0m\n\u001b[1;32m    291\u001b[0m     \u001b[0;34m@\u001b[0m\u001b[0mclassmethod\u001b[0m\u001b[0;34m\u001b[0m\u001b[0;34m\u001b[0m\u001b[0m\n",
      "\u001b[0;32m/usr/local/lib/python3.7/dist-packages/cvxpy/problems/problem.py\u001b[0m in \u001b[0;36m_solve\u001b[0;34m(self, solver, warm_start, verbose, parallel, gp, qcp, **kwargs)\u001b[0m\n\u001b[1;32m    569\u001b[0m             self._intermediate_problem)\n\u001b[1;32m    570\u001b[0m         solution = self._solving_chain.solve_via_data(\n\u001b[0;32m--> 571\u001b[0;31m             self, data, warm_start, verbose, kwargs)\n\u001b[0m\u001b[1;32m    572\u001b[0m         \u001b[0mfull_chain\u001b[0m \u001b[0;34m=\u001b[0m \u001b[0mself\u001b[0m\u001b[0;34m.\u001b[0m\u001b[0m_solving_chain\u001b[0m\u001b[0;34m.\u001b[0m\u001b[0mprepend\u001b[0m\u001b[0;34m(\u001b[0m\u001b[0mself\u001b[0m\u001b[0;34m.\u001b[0m\u001b[0m_intermediate_chain\u001b[0m\u001b[0;34m)\u001b[0m\u001b[0;34m\u001b[0m\u001b[0;34m\u001b[0m\u001b[0m\n\u001b[1;32m    573\u001b[0m         \u001b[0minverse_data\u001b[0m \u001b[0;34m=\u001b[0m \u001b[0mself\u001b[0m\u001b[0;34m.\u001b[0m\u001b[0m_intermediate_inverse_data\u001b[0m \u001b[0;34m+\u001b[0m \u001b[0msolving_inverse_data\u001b[0m\u001b[0;34m\u001b[0m\u001b[0;34m\u001b[0m\u001b[0m\n",
      "\u001b[0;32m/usr/local/lib/python3.7/dist-packages/cvxpy/reductions/solvers/solving_chain.py\u001b[0m in \u001b[0;36msolve_via_data\u001b[0;34m(self, problem, data, warm_start, verbose, solver_opts)\u001b[0m\n\u001b[1;32m    192\u001b[0m         \"\"\"\n\u001b[1;32m    193\u001b[0m         return self.solver.solve_via_data(data, warm_start, verbose,\n\u001b[0;32m--> 194\u001b[0;31m                                           solver_opts, problem._solver_cache)\n\u001b[0m",
      "\u001b[0;32m/usr/local/lib/python3.7/dist-packages/cvxpy/reductions/solvers/conic_solvers/scs_conif.py\u001b[0m in \u001b[0;36msolve_via_data\u001b[0;34m(self, data, warm_start, verbose, solver_opts, solver_cache)\u001b[0m\n\u001b[1;32m    296\u001b[0m             \u001b[0mcones\u001b[0m\u001b[0;34m,\u001b[0m\u001b[0;34m\u001b[0m\u001b[0;34m\u001b[0m\u001b[0m\n\u001b[1;32m    297\u001b[0m             \u001b[0mverbose\u001b[0m\u001b[0;34m=\u001b[0m\u001b[0mverbose\u001b[0m\u001b[0;34m,\u001b[0m\u001b[0;34m\u001b[0m\u001b[0;34m\u001b[0m\u001b[0m\n\u001b[0;32m--> 298\u001b[0;31m             **solver_opts)\n\u001b[0m\u001b[1;32m    299\u001b[0m         \u001b[0;32mif\u001b[0m \u001b[0msolver_cache\u001b[0m \u001b[0;32mis\u001b[0m \u001b[0;32mnot\u001b[0m \u001b[0;32mNone\u001b[0m\u001b[0;34m:\u001b[0m\u001b[0;34m\u001b[0m\u001b[0;34m\u001b[0m\u001b[0m\n\u001b[1;32m    300\u001b[0m             \u001b[0msolver_cache\u001b[0m\u001b[0;34m[\u001b[0m\u001b[0mself\u001b[0m\u001b[0;34m.\u001b[0m\u001b[0mname\u001b[0m\u001b[0;34m(\u001b[0m\u001b[0;34m)\u001b[0m\u001b[0;34m]\u001b[0m \u001b[0;34m=\u001b[0m \u001b[0mresults\u001b[0m\u001b[0;34m\u001b[0m\u001b[0;34m\u001b[0m\u001b[0m\n",
      "\u001b[0;32m/usr/local/lib/python3.7/dist-packages/scs/__init__.py\u001b[0m in \u001b[0;36msolve\u001b[0;34m(probdata, cone, **kwargs)\u001b[0m\n\u001b[1;32m     85\u001b[0m \u001b[0;34m\u001b[0m\u001b[0m\n\u001b[1;32m     86\u001b[0m   return _scs_direct.csolve((m, n), Adata, Aindices, Acolptr, b, c, cone, warm,\n\u001b[0;32m---> 87\u001b[0;31m                             **kwargs)\n\u001b[0m",
      "\u001b[0;31mTypeError\u001b[0m: argument 9 must be bool, not int"
     ]
    }
   ],
   "source": [
    "# Form and solve worst-case risk analysis problem.\n",
    "Sigma = cp.Variable((n, n), PSD=True)\n",
    "Delta = cp.Variable((n, n), symmetric=True)\n",
    "risk = cp.quad_form(w.value, Sigma)\n",
    "prob = cp.Problem(cp.Maximize(risk), \n",
    "               [Sigma == Sigma_nom + Delta, \n",
    "                cp.diag(Delta) == 0, \n",
    "                cp.abs(Delta) <= 0.2])\n",
    "prob.solve(verbose=2)\n",
    "print(\"standard deviation =\", cp.sqrt(cp.quad_form(w.value, Sigma_nom)).value)\n",
    "print(\"worst-case standard deviation =\", cp.sqrt(risk).value)\n",
    "print(\"worst-case Delta =\")\n",
    "print(np.round(Delta.value, decimals=2))"
   ]
  },
  {
   "cell_type": "code",
   "execution_count": null,
   "metadata": {},
   "outputs": [],
   "source": []
  },
  {
   "cell_type": "code",
   "execution_count": null,
   "metadata": {},
   "outputs": [],
   "source": []
  }
 ],
 "metadata": {
  "kernelspec": {
   "display_name": "Python 3",
   "language": "python",
   "name": "python3"
  },
  "language_info": {
   "codemirror_mode": {
    "name": "ipython",
    "version": 3
   },
   "file_extension": ".py",
   "mimetype": "text/x-python",
   "name": "python",
   "nbconvert_exporter": "python",
   "pygments_lexer": "ipython3",
   "version": "3.7.4"
  }
 },
 "nbformat": 4,
 "nbformat_minor": 4
}
