{
 "cells": [
  {
   "cell_type": "code",
   "execution_count": 10,
   "metadata": {},
   "outputs": [
    {
     "name": "stdout",
     "output_type": "stream",
     "text": [
      "config> created config from file: './config.json'\n",
      "config> config\n",
      "        - base:\n",
      "            - config_file_path: /mnt/c/notebooks/sandbox/config.json\n",
      "        - datasets:\n",
      "            - stocks: 30\n",
      "            - benchmarks: 69\n",
      "        - prepare:\n",
      "            - data_start_dt: 2018-02-13\n",
      "            - data_end_dt: 2020-01-07\n",
      "            - cache_dir: /mnt/c/notebooks/sandbox/cache/20200107/\n",
      "        - train:            \n",
      "            - window_trading_days: [3, 5, 21, 35, 50]\n",
      "            - lag_trading_days: [1, 2, 3, 4, 5]\n",
      "            - label_max_high_weight: 3.0\n",
      "            - label_max_close_weight: 1.0\n",
      "            - settings: 12\n",
      "        - model:\n",
      "            - max_samples: 40\n",
      "            - batch_size: 32\n",
      "            - lstm_hidden_size: 256\n",
      "            - early_stopping_patience: 10\n",
      "            - validation_monitor: val_mean_squared_error\n",
      "            - max_epochs: 1000\n",
      "            - base_dir: /mnt/c/notebooks/sandbox/model/20200107/            \n",
      "        \n"
     ]
    }
   ],
   "source": [
    "import numpy as np\n",
    "import pandas as pd\n",
    "from importlib import reload\n",
    "import datetime\n",
    "\n",
    "import shared\n",
    "import config\n",
    "import provider_yfinance as provider\n",
    "import model\n",
    "\n",
    "reload(shared)\n",
    "reload(config)\n",
    "reload(provider)\n",
    "reload(model)\n",
    "\n",
    "cfg = config.get_config('^GDAXI')\n",
    "\n",
    "# overwrite download_end_dt: use cached data\n",
    "# config.overwrite_end_dt(cfg, '2019-12-19')\n",
    "# config.save_config(cfg)"
   ]
  },
  {
   "cell_type": "code",
   "execution_count": 11,
   "metadata": {},
   "outputs": [
    {
     "data": {
      "text/plain": [
       "Munch({'base_dir': '/mnt/c/notebooks/sandbox/model/20200107/', 'batch_size': 32, 'early_stopping_patience': 10, 'lstm_hidden_size': 256, 'max_epochs': 1000, 'max_samples': 40, 'model_templates_dir': '/mnt/c/notebooks/sandbox/model', 'model_weights_file_name': 'model_weights.hdf5', 'optimizer_weights_file_name': 'optimizer_weights.pkl', 'validation_monitor': 'val_mean_squared_error'})"
      ]
     },
     "execution_count": 11,
     "metadata": {},
     "output_type": "execute_result"
    }
   ],
   "source": [
    "cfg.model"
   ]
  },
  {
   "cell_type": "code",
   "execution_count": 12,
   "metadata": {},
   "outputs": [
    {
     "data": {
      "text/plain": [
       "[(0, 'lookback_3-label_1'),\n",
       " (1, 'lookback_3-label_2'),\n",
       " (2, 'lookback_5-label_1'),\n",
       " (3, 'lookback_5-label_3'),\n",
       " (4, 'lookback_7-label_1'),\n",
       " (5, 'lookback_7-label_3'),\n",
       " (6, 'lookback_10-label_3'),\n",
       " (7, 'lookback_14-label_3'),\n",
       " (8, 'lookback_21-label_5'),\n",
       " (9, 'lookback_36-label_7'),\n",
       " (10, 'lookback_64-label_7'),\n",
       " (11, 'lookback_100-label_7')]"
      ]
     },
     "execution_count": 12,
     "metadata": {},
     "output_type": "execute_result"
    }
   ],
   "source": [
    "[(i, s.id) for i, s in enumerate(cfg.train.settings)]"
   ]
  },
  {
   "cell_type": "code",
   "execution_count": null,
   "metadata": {},
   "outputs": [
    {
     "name": "stdout",
     "output_type": "stream",
     "text": [
      "sm-lookback_14-label_3> training submodel ...\n",
      "_________________________________________________________________\n",
      "Layer (type)                 Output Shape              Param #   \n",
      "=================================================================\n",
      "batch_normalization_3 (Batch (None, 14, 1319)          5276      \n",
      "_________________________________________________________________\n",
      "masking_3 (Masking)          (None, 14, 1319)          0         \n",
      "_________________________________________________________________\n",
      "lstm_7 (LSTM)                (None, 14, 256)           1613824   \n",
      "_________________________________________________________________\n",
      "lstm_8 (LSTM)                (None, 14, 256)           525312    \n",
      "_________________________________________________________________\n",
      "lstm_9 (LSTM)                (None, 256)               525312    \n",
      "_________________________________________________________________\n",
      "dense_3 (Dense)              (None, 1)                 257       \n",
      "=================================================================\n",
      "Total params: 2,669,981\n",
      "Trainable params: 2,667,343\n",
      "Non-trainable params: 2,638\n",
      "_________________________________________________________________\n",
      "model> model created\n",
      ":None\n",
      "model> loaded model weights from '/mnt/c/notebooks/sandbox/model/20200107/lookback_14-label_3/model_weights.hdf5'\n",
      "> overall\n",
      "model> loaded optimizer weights from '/mnt/c/notebooks/sandbox/model/20200107/lookback_14-label_3/optimizer_weights.pkl'\n",
      "model> fitting ... (Hit CTRL-C to stop early)\n",
      "Train on 4706 samples, validate on 523 samples\n",
      "Epoch 1/1000\n",
      "4706/4706 [==============================] - 47s 10ms/step - loss: 1.7788 - mean_absolute_error: 0.9646 - mean_squared_error: 1.7788 - val_loss: 6.3197 - val_mean_absolute_error: 1.7003 - val_mean_squared_error: 6.3197\n",
      "\n",
      "Epoch 00001: val_mean_squared_error improved from inf to 6.31970, saving model to /mnt/c/notebooks/sandbox/model/20200107//lookback_14-label_3//best_weights_lstm-256_epoch-01_val-6.3197.hdf5\n",
      "Epoch 2/1000\n",
      "4706/4706 [==============================] - 49s 10ms/step - loss: 1.8391 - mean_absolute_error: 0.9746 - mean_squared_error: 1.8391 - val_loss: 7.0197 - val_mean_absolute_error: 1.8289 - val_mean_squared_error: 7.0197\n",
      "\n",
      "Epoch 00002: val_mean_squared_error did not improve from 6.31970\n",
      "Epoch 3/1000\n",
      "1920/4706 [===========>..................] - ETA: 28s - loss: 1.4939 - mean_absolute_error: 0.9013 - mean_squared_error: 1.4939"
     ]
    }
   ],
   "source": [
    "model.train_full(cfg, 7)"
   ]
  },
  {
   "cell_type": "markdown",
   "metadata": {},
   "source": [
    "https://stackoverflow.com/questions/39674713/neural-network-lstm-input-shape-from-dataframe\n",
    "https://stackoverflow.com/questions/49803503/lstm-preprocessing-build-3d-arrays-from-pandas-data-frame-based-on-id"
   ]
  }
 ],
 "metadata": {
  "kernelspec": {
   "display_name": "Python 3",
   "language": "python",
   "name": "python3"
  },
  "language_info": {
   "codemirror_mode": {
    "name": "ipython",
    "version": 3
   },
   "file_extension": ".py",
   "mimetype": "text/x-python",
   "name": "python",
   "nbconvert_exporter": "python",
   "pygments_lexer": "ipython3",
   "version": "3.7.4"
  }
 },
 "nbformat": 4,
 "nbformat_minor": 4
}
