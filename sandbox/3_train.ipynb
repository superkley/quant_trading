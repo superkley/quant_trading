{
 "cells": [
  {
   "cell_type": "code",
   "execution_count": 42,
   "metadata": {},
   "outputs": [
    {
     "name": "stdout",
     "output_type": "stream",
     "text": [
      "config> created config from file: './config.json'\n",
      "config> config\n",
      "        - base:\n",
      "            - config_file_path: /mnt/c/notebooks/sandbox/config.json\n",
      "        - datasets:\n",
      "            - stocks: 30\n",
      "            - benchmarks: 69\n",
      "        - prepare:\n",
      "            - data_start_dt: 2018-02-08\n",
      "            - data_end_dt: 2020-01-07\n",
      "            - cache_dir: /mnt/c/notebooks/sandbox/cache/20200107/\n",
      "        - train:            \n",
      "            - window_trading_days: [3, 5, 21, 35, 50]\n",
      "            - lag_trading_days: [1, 2, 3, 4, 5]\n",
      "            - label_max_high_weight: 3.0\n",
      "            - label_max_close_weight: 1.0\n",
      "            - settings: 12\n",
      "        - model:\n",
      "            - max_samples: 40\n",
      "            - batch_size: 200\n",
      "            - max_epochs: 1000\n",
      "            - base_dir: /mnt/c/notebooks/sandbox/model/20200109/            \n",
      "        \n"
     ]
    }
   ],
   "source": [
    "import numpy as np\n",
    "import pandas as pd\n",
    "from importlib import reload\n",
    "import pathlib\n",
    "import munch\n",
    "import datetime\n",
    "\n",
    "import shared\n",
    "import config\n",
    "import provider_yfinance as provider\n",
    "\n",
    "reload(shared)\n",
    "reload(config)\n",
    "reload(provider)\n",
    "\n",
    "cfg = config.get_config('^GDAXI')\n",
    "\n",
    "# overwrite download_end_dt: use cached data\n",
    "# config.overwrite_end_dt(cfg, '2019-12-19')\n",
    "# config.save_config(cfg)"
   ]
  },
  {
   "cell_type": "code",
   "execution_count": 39,
   "metadata": {},
   "outputs": [],
   "source": [
    "from keras.preprocessing.sequence import pad_sequences\n",
    "from keras.models import Model, Sequential\n",
    "from keras.layers import LSTM, Dense, BatchNormalization, Masking\n",
    "from keras.callbacks import EarlyStopping, ModelCheckpoint\n",
    "import keras.backend as K\n"
   ]
  },
  {
   "cell_type": "code",
   "execution_count": 43,
   "metadata": {},
   "outputs": [
    {
     "name": "stdout",
     "output_type": "stream",
     "text": [
      "sm-nr_12-lookback_100-label_7> training submodel ...\n"
     ]
    }
   ],
   "source": [
    "submodel_settings = cfg.train.settings[-1]\n",
    "print(f\"sm-{submodel_settings.id}> training submodel ...\")\n",
    "model_data = provider.prepare_submodel_data(cfg, submodel_settings)"
   ]
  },
  {
   "cell_type": "code",
   "execution_count": 44,
   "metadata": {},
   "outputs": [
    {
     "name": "stdout",
     "output_type": "stream",
     "text": [
      "_________________________________________________________________\n",
      "Layer (type)                 Output Shape              Param #   \n",
      "=================================================================\n",
      "batch_normalization_10 (Batc (None, 100, 1319)         5276      \n",
      "_________________________________________________________________\n",
      "masking_10 (Masking)         (None, 100, 1319)         0         \n",
      "_________________________________________________________________\n",
      "lstm_26 (LSTM)               (None, 100, 1319)         13923364  \n",
      "_________________________________________________________________\n",
      "lstm_27 (LSTM)               (None, 100, 659)          5216644   \n",
      "_________________________________________________________________\n",
      "lstm_28 (LSTM)               (None, 659)               3476884   \n",
      "_________________________________________________________________\n",
      "dense_9 (Dense)              (None, 1)                 660       \n",
      "=================================================================\n",
      "Total params: 22,622,828\n",
      "Trainable params: 22,620,190\n",
      "Non-trainable params: 2,638\n",
      "_________________________________________________________________\n",
      "model> model created\n",
      ":None\n",
      "model> fitting ... (Hit CTRL-C to stop early)\n"
     ]
    },
    {
     "ename": "TypeError",
     "evalue": "Unrecognized keyword arguments: {'show_accuracy': True}",
     "output_type": "error",
     "traceback": [
      "\u001b[0;31m---------------------------------------------------------------------------\u001b[0m",
      "\u001b[0;31mTypeError\u001b[0m                                 Traceback (most recent call last)",
      "\u001b[0;32m<ipython-input-44-10a811d5bf8e>\u001b[0m in \u001b[0;36m<module>\u001b[0;34m\u001b[0m\n\u001b[1;32m     76\u001b[0m \u001b[0;34m\u001b[0m\u001b[0m\n\u001b[1;32m     77\u001b[0m \u001b[0mmodel\u001b[0m \u001b[0;34m=\u001b[0m \u001b[0mcreate_model\u001b[0m\u001b[0;34m(\u001b[0m\u001b[0mcfg\u001b[0m\u001b[0;34m,\u001b[0m \u001b[0msubmodel_settings\u001b[0m\u001b[0;34m,\u001b[0m \u001b[0mmodel_data\u001b[0m\u001b[0;34m)\u001b[0m\u001b[0;34m\u001b[0m\u001b[0;34m\u001b[0m\u001b[0m\n\u001b[0;32m---> 78\u001b[0;31m \u001b[0mhistory\u001b[0m \u001b[0;34m=\u001b[0m \u001b[0mtrain_model\u001b[0m\u001b[0;34m(\u001b[0m\u001b[0mcfg\u001b[0m\u001b[0;34m,\u001b[0m \u001b[0msubmodel_settings\u001b[0m\u001b[0;34m,\u001b[0m \u001b[0mmodel\u001b[0m\u001b[0;34m,\u001b[0m \u001b[0mmodel_data\u001b[0m\u001b[0;34m)\u001b[0m\u001b[0;34m\u001b[0m\u001b[0;34m\u001b[0m\u001b[0m\n\u001b[0m\u001b[1;32m     79\u001b[0m \u001b[0;31m# single stock\u001b[0m\u001b[0;34m\u001b[0m\u001b[0;34m\u001b[0m\u001b[0;34m\u001b[0m\u001b[0m\n\u001b[1;32m     80\u001b[0m \u001b[0;31m# all stocks\u001b[0m\u001b[0;34m\u001b[0m\u001b[0;34m\u001b[0m\u001b[0;34m\u001b[0m\u001b[0m\n",
      "\u001b[0;32m<ipython-input-44-10a811d5bf8e>\u001b[0m in \u001b[0;36mtrain_model\u001b[0;34m(cfg, submodel_settings, model, model_data)\u001b[0m\n\u001b[1;32m     67\u001b[0m     \u001b[0mhistory\u001b[0m \u001b[0;34m=\u001b[0m \u001b[0;32mNone\u001b[0m\u001b[0;34m\u001b[0m\u001b[0;34m\u001b[0m\u001b[0m\n\u001b[1;32m     68\u001b[0m     \u001b[0;32mtry\u001b[0m\u001b[0;34m:\u001b[0m\u001b[0;34m\u001b[0m\u001b[0;34m\u001b[0m\u001b[0m\n\u001b[0;32m---> 69\u001b[0;31m         \u001b[0mhistory\u001b[0m \u001b[0;34m=\u001b[0m \u001b[0mmodel\u001b[0m\u001b[0;34m.\u001b[0m\u001b[0mfit\u001b[0m\u001b[0;34m(\u001b[0m\u001b[0mX\u001b[0m\u001b[0;34m,\u001b[0m \u001b[0my\u001b[0m\u001b[0;34m,\u001b[0m \u001b[0;34m**\u001b[0m\u001b[0mfit_params\u001b[0m\u001b[0;34m)\u001b[0m\u001b[0;34m\u001b[0m\u001b[0;34m\u001b[0m\u001b[0m\n\u001b[0m\u001b[1;32m     70\u001b[0m     \u001b[0;32mexcept\u001b[0m \u001b[0mKeyboardInterrupt\u001b[0m\u001b[0;34m:\u001b[0m\u001b[0;34m\u001b[0m\u001b[0;34m\u001b[0m\u001b[0m\n\u001b[1;32m     71\u001b[0m         \u001b[0mprint\u001b[0m\u001b[0;34m(\u001b[0m\u001b[0;34m'model> training stopped early!'\u001b[0m\u001b[0;34m)\u001b[0m\u001b[0;34m\u001b[0m\u001b[0;34m\u001b[0m\u001b[0m\n",
      "\u001b[0;32m/usr/local/lib/python3.7/dist-packages/keras/engine/training.py\u001b[0m in \u001b[0;36mfit\u001b[0;34m(self, x, y, batch_size, epochs, verbose, callbacks, validation_split, validation_data, shuffle, class_weight, sample_weight, initial_epoch, steps_per_epoch, validation_steps, **kwargs)\u001b[0m\n\u001b[1;32m    940\u001b[0m             \u001b[0mepochs\u001b[0m \u001b[0;34m=\u001b[0m \u001b[0mkwargs\u001b[0m\u001b[0;34m.\u001b[0m\u001b[0mpop\u001b[0m\u001b[0;34m(\u001b[0m\u001b[0;34m'nb_epoch'\u001b[0m\u001b[0;34m)\u001b[0m\u001b[0;34m\u001b[0m\u001b[0;34m\u001b[0m\u001b[0m\n\u001b[1;32m    941\u001b[0m         \u001b[0;32mif\u001b[0m \u001b[0mkwargs\u001b[0m\u001b[0;34m:\u001b[0m\u001b[0;34m\u001b[0m\u001b[0;34m\u001b[0m\u001b[0m\n\u001b[0;32m--> 942\u001b[0;31m             \u001b[0;32mraise\u001b[0m \u001b[0mTypeError\u001b[0m\u001b[0;34m(\u001b[0m\u001b[0;34m'Unrecognized keyword arguments: '\u001b[0m \u001b[0;34m+\u001b[0m \u001b[0mstr\u001b[0m\u001b[0;34m(\u001b[0m\u001b[0mkwargs\u001b[0m\u001b[0;34m)\u001b[0m\u001b[0;34m)\u001b[0m\u001b[0;34m\u001b[0m\u001b[0;34m\u001b[0m\u001b[0m\n\u001b[0m\u001b[1;32m    943\u001b[0m         \u001b[0;32mif\u001b[0m \u001b[0mx\u001b[0m \u001b[0;32mis\u001b[0m \u001b[0;32mNone\u001b[0m \u001b[0;32mand\u001b[0m \u001b[0my\u001b[0m \u001b[0;32mis\u001b[0m \u001b[0;32mNone\u001b[0m \u001b[0;32mand\u001b[0m \u001b[0msteps_per_epoch\u001b[0m \u001b[0;32mis\u001b[0m \u001b[0;32mNone\u001b[0m\u001b[0;34m:\u001b[0m\u001b[0;34m\u001b[0m\u001b[0;34m\u001b[0m\u001b[0m\n\u001b[1;32m    944\u001b[0m             raise ValueError('If fitting from data tensors, '\n",
      "\u001b[0;31mTypeError\u001b[0m: Unrecognized keyword arguments: {'show_accuracy': True}"
     ]
    }
   ],
   "source": [
    "def load_weights(cfg, submodel_settings, model):\n",
    "    pth_submodel = pathlib.Path(f\"{cfg.model.base_dir}/{submodel_settings.id}\")\n",
    "    f_model_weights = pth_submodel.joinpath(cfg.model.model_weights_file_name)\n",
    "    f_optimizer_weights = pth_submodel.joinpath(cfg.model.optimizer_weights_file_name)\n",
    "    shared.mkdirs(pth_submodel)\n",
    "    if f_model_weights.is_file():\n",
    "        model.load_weights(f_model_weights)\n",
    "        print(f\"model> loaded model weights from '{f_model_weights.resolve()}'\")\n",
    "    if f_optimizer_weights.is_file():\n",
    "        model._make_train_function()\n",
    "        with open(f_optimizer_weights.resolve(), 'rb') as f:\n",
    "            model.optimizer.set_weights(pickle.load(f))    \n",
    "            print(f\"model> loaded optimizer weights from '{f_optimizer_weights.resolve()}'\")\n",
    "\n",
    "def save_weights(cfg, submodel_settings, model):\n",
    "    pth_submodel = pathlib.Path(f\"{cfg.model.base_dir}/{submodel_settings.id}\")\n",
    "    f_model_weights = pth_submodel.joinpath(cfg.model.model_weights_file_name)\n",
    "    f_optimizer_weights = pth_submodel.joinpath(cfg.model.optimizer_weights_file_name)\n",
    "    shared.mkdirs(pth_submodel)\n",
    "    model.save_weights(f_model_weights)\n",
    "    print(f\"model> saved model weights to '{f_model_weights.resolve()}'\")\n",
    "    with open(f_optimizer_weights.resolve(), 'wb') as f:\n",
    "        pickle.dump(K.batch_get_value(getattr(model.optimizer, 'weights')), f)\n",
    "        print(f\"model> saved optimizer weights to '{f_optimizer_weights.resolve()}'\")\n",
    "\n",
    "def create_model(cfg, submodel_settings, model_data):\n",
    "    num_samples = df.shape[0]\n",
    "    num_features = len(df.X.head(1).tolist()[0][0][0][0])\n",
    "    input_length = submodel_settings.lookback_days\n",
    "    input_dim = num_features    \n",
    "    model = Sequential()\n",
    "    model.add(BatchNormalization(input_shape=(input_length, input_dim)))\n",
    "    model.add(Masking())\n",
    "    model.add(LSTM(input_dim, dropout=.3, return_sequences=True, activation=\"softsign\"))\n",
    "    model.add(LSTM(input_dim//2, dropout=.3, return_sequences=True, activation=\"softsign\"))\n",
    "    model.add(LSTM(input_dim//2, dropout=.3, activation=\"softsign\"))\n",
    "    model.add(Dense(output_dim))\n",
    "    model.compile(loss='mean_squared_error', optimizer='adam', metrics=['mean_absolute_error', 'mean_squared_error'])\n",
    "    print(f'model> model created\\n:{model.summary()}')\n",
    "    load_weights(cfg, submodel_settings, model)\n",
    "    return model\n",
    "\n",
    "def train_model(cfg, submodel_settings, model, model_data):\n",
    "    num_samples = model_data.shape[0]\n",
    "    num_features = len(model_data.X.head(1).tolist()[0][0][0][0])\n",
    "    input_length = submodel_settings.lookback_days\n",
    "    input_dim = num_features    \n",
    "    output_dim = 1\n",
    "    X = np.hstack(np.asarray(model_data.X)).reshape(num_samples, input_length, input_dim)\n",
    "    y = np.hstack(np.asarray(model_data.y)).reshape(num_samples, output_dim)\n",
    "    pth_submodel = f\"{cfg.model.base_dir}/{submodel_settings.id}\"\n",
    "    shared.mkdirs(pth_submodel)\n",
    "    monitor = cfg.model.validaion_monitor\n",
    "    fit_params = {\n",
    "        \"batch_size\": cfg.model.batch_size,\n",
    "        \"epochs\": cfg.model.max_epochs,\n",
    "        \"verbose\": 1,\n",
    "        \"validation_split\": 0.1,\n",
    "        \"shuffle\": True,\n",
    "        \"callbacks\": [\n",
    "            EarlyStopping(verbose=True, patience=cfg.model.early_stopping_patience, monitor=monitor),\n",
    "            ModelCheckpoint(f\"{pth_submodel}/best_model_weights_{{epoch:02d}}_{{{monitor}:.4f}}.hdf5\", monitor=monitor, verbose=1, save_best_only=True)\n",
    "        ]\n",
    "    }\n",
    "    print('model> fitting ... (Hit CTRL-C to stop early)')\n",
    "    history = None\n",
    "    try:\n",
    "        history = model.fit(X, y, **fit_params)\n",
    "    except KeyboardInterrupt:\n",
    "        print('model> training stopped early!')\n",
    "        history = model.history    \n",
    "    print(\"model> average +-5 around best epoch: \" + np.mean(history.history[monitor][(np.max(history.epoch)-patience-10):(np.max(history.epoch)-patience+10)]))\n",
    "    save_weights(cfg, submodel_settings, model)\n",
    "    return history \n",
    "\n",
    "model = create_model(cfg, submodel_settings, model_data)\n",
    "history = train_model(cfg, submodel_settings, model, model_data)\n",
    "# single stock\n",
    "# all stocks"
   ]
  },
  {
   "cell_type": "code",
   "execution_count": null,
   "metadata": {},
   "outputs": [],
   "source": [
    "df_test = pd.DataFrame({\n",
    "    'X': pd.Series(model.predict(X_train).flatten()),\n",
    "    'y': y_train.flatten()\n",
    "})\n",
    "df_test['diff'] = df_test.X - df_test.y\n",
    "df_test"
   ]
  },
  {
   "cell_type": "markdown",
   "metadata": {},
   "source": [
    "https://stackoverflow.com/questions/39674713/neural-network-lstm-input-shape-from-dataframe\n",
    "https://stackoverflow.com/questions/49803503/lstm-preprocessing-build-3d-arrays-from-pandas-data-frame-based-on-id"
   ]
  }
 ],
 "metadata": {
  "kernelspec": {
   "display_name": "Python 3",
   "language": "python",
   "name": "python3"
  },
  "language_info": {
   "codemirror_mode": {
    "name": "ipython",
    "version": 3
   },
   "file_extension": ".py",
   "mimetype": "text/x-python",
   "name": "python",
   "nbconvert_exporter": "python",
   "pygments_lexer": "ipython3",
   "version": "3.7.4"
  }
 },
 "nbformat": 4,
 "nbformat_minor": 4
}
