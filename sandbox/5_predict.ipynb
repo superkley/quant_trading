{
 "cells": [
  {
   "cell_type": "code",
   "execution_count": 40,
   "metadata": {},
   "outputs": [
    {
     "name": "stdout",
     "output_type": "stream",
     "text": [
      "config> created config from file: './config.json'\n",
      "config> config\n",
      "        - base:\n",
      "            - config_file_path: /mnt/c/notebooks/sandbox/config.json\n",
      "        - datasets:\n",
      "            - stocks: 30\n",
      "            - benchmarks: 69\n",
      "        - prepare:\n",
      "            - data_start_dt: 2018-02-25\n",
      "            - data_end_dt: 2020-01-26\n",
      "            - cache_dir: /mnt/c/notebooks/sandbox/cache/20200126/\n",
      "        - train:            \n",
      "            - window_trading_days: [3, 5, 21, 35, 50]\n",
      "            - lag_trading_days: [1, 2, 3, 4, 5]\n",
      "            - label_max_high_weight: 3.0\n",
      "            - label_max_close_weight: 1.0\n",
      "            - settings: 5\n",
      "        - model:\n",
      "            - max_samples: 40\n",
      "            - batch_size: 32\n",
      "            - learning_rate: 0.1\n",
      "            - learning_rate_decay: 0.75\n",
      "            - lstm_hidden_size: 256\n",
      "            - early_stopping_patience: 10\n",
      "            - validation_monitor: val_mean_squared_error\n",
      "            - max_epochs: 1000\n",
      "            - base_dir: /mnt/c/notebooks/sandbox/model/20200126/            \n",
      "        \n",
      "config> created config from file: './config.json'\n",
      "config> config\n",
      "        - base:\n",
      "            - config_file_path: /mnt/c/notebooks/sandbox/config.json\n",
      "        - datasets:\n",
      "            - stocks: 30\n",
      "            - benchmarks: 69\n",
      "        - prepare:\n",
      "            - data_start_dt: 2018-02-25\n",
      "            - data_end_dt: 2020-01-26\n",
      "            - cache_dir: /mnt/c/notebooks/sandbox/cache/20200126/\n",
      "        - train:            \n",
      "            - window_trading_days: [3, 5, 21, 35, 50]\n",
      "            - lag_trading_days: [1, 2, 3, 4, 5]\n",
      "            - label_max_high_weight: 3.0\n",
      "            - label_max_close_weight: 1.0\n",
      "            - settings: 5\n",
      "        - model:\n",
      "            - max_samples: 40\n",
      "            - batch_size: 32\n",
      "            - learning_rate: 0.1\n",
      "            - learning_rate_decay: 0.75\n",
      "            - lstm_hidden_size: 256\n",
      "            - early_stopping_patience: 10\n",
      "            - validation_monitor: val_mean_squared_error\n",
      "            - max_epochs: 1000\n",
      "            - base_dir: /mnt/c/notebooks/sandbox/model/20200126/            \n",
      "        \n"
     ]
    }
   ],
   "source": [
    "import numpy as np\n",
    "import pandas as pd\n",
    "from importlib import reload\n",
    "import datetime\n",
    "\n",
    "import matplotlib as mpl\n",
    "import matplotlib.pyplot as plt\n",
    "import seaborn as sns\n",
    "\n",
    "import warnings\n",
    "warnings.filterwarnings(\"ignore\", category=DeprecationWarning)\n",
    "warnings.filterwarnings(\"ignore\", category=FutureWarning)\n",
    "\n",
    "import shared\n",
    "import config\n",
    "import provider_yfinance as provider\n",
    "import model\n",
    "import plot\n",
    "\n",
    "reload(shared)\n",
    "reload(config)\n",
    "reload(provider)\n",
    "reload(model)\n",
    "reload(plot)\n",
    "\n",
    "plot.Notebook()\n",
    "\n",
    "mpl.rcParams['figure.figsize'] = (16, 9)\n",
    "mpl.rcParams['axes.grid'] = False\n",
    "mpl.rcParams['axes.unicode_minus']=False\n",
    "pd.set_option('display.max_colwidth', -1)\n",
    "pd.set_option('display.max_columns', None)\n",
    "\n",
    "cfg = config.get_config('^GDAXI')\n",
    "mdl_cfg = config.get_config('^GDAXI')\n",
    "# overwrite download_end_dt: use cached data\n",
    "# config.save_config(cfg)"
   ]
  },
  {
   "cell_type": "code",
   "execution_count": 41,
   "metadata": {},
   "outputs": [
    {
     "name": "stdout",
     "output_type": "stream",
     "text": [
      "CPU times: user 297 ms, sys: 62.5 ms, total: 359 ms\n",
      "Wall time: 329 ms\n"
     ]
    }
   ],
   "source": [
    "%%time \n",
    "# 344 ms\n",
    "cfg_stocks, data_stocks = provider.load_stocks(cfg)\n",
    "cfg_benchmarks, data_benchmarks = provider.load_benchmarks(cfg)"
   ]
  },
  {
   "cell_type": "code",
   "execution_count": 9,
   "metadata": {},
   "outputs": [
    {
     "name": "stdout",
     "output_type": "stream",
     "text": [
      "CPU times: user 344 ms, sys: 31.2 ms, total: 375 ms\n",
      "Wall time: 378 ms\n"
     ]
    }
   ],
   "source": [
    "%%time \n",
    "# total: 2.55 s\n",
    "prep_stocks = provider.prepare_stocks(cfg, data_stocks)\n",
    "prep_benchmarks = provider.prepare_benchmarks(cfg, data_benchmarks)"
   ]
  },
  {
   "cell_type": "code",
   "execution_count": 10,
   "metadata": {},
   "outputs": [
    {
     "name": "stdout",
     "output_type": "stream",
     "text": [
      "CPU times: user 62.5 ms, sys: 62.5 ms, total: 125 ms\n",
      "Wall time: 116 ms\n"
     ]
    }
   ],
   "source": [
    "%%time\n",
    "# total: 1.2 s\n",
    "enc_stocks = provider.encode_stocks(cfg, prep_stocks)\n",
    "enc_benchmarks = provider.encode_benchmarks(cfg, prep_benchmarks, prep_stocks)"
   ]
  },
  {
   "cell_type": "code",
   "execution_count": 7,
   "metadata": {},
   "outputs": [
    {
     "data": {
      "text/plain": [
       "Munch({'ensemble_weight': 1.0, 'float_precision': 100.0, 'id': 'lookback_100-label_7', 'label_days': 7, 'lookback_days': 100, 'max_samples': 26, 'num_features': 1319, 'prev_year_samples_after': 12, 'prev_year_samples_before': 5, 'sample_manifolds': [1, 1, 1, 1, 1, 1, 1, 1, 1, 1, 1, 1, 1, 1, 1, 1, 1, 1, 1, 1, 1, 1, 1, 1, 1, 1, 1, 2, 2, 2, 2, 2, 2, 2, 2, 2, 2, 3, 3, 4, 5, 6, 7]})"
      ]
     },
     "execution_count": 7,
     "metadata": {},
     "output_type": "execute_result"
    }
   ],
   "source": [
    "submodel_settings = cfg.train.settings[-1]\n",
    "submodel_settings"
   ]
  },
  {
   "cell_type": "code",
   "execution_count": 33,
   "metadata": {},
   "outputs": [
    {
     "name": "stdout",
     "output_type": "stream",
     "text": [
      "lookback_100-label_7> prediction lookback from '2019-08-29 00:00:00' to '2020-01-24 00:00:00' for the next 7 days\n",
      "lookback_100-label_7> benchmark data shape: (101, 1292)\n",
      "lookback_100-label_7> X shape: (1, 100, 1319)\n"
     ]
    }
   ],
   "source": [
    "ticker_name = '1COV.DE'\n",
    "ticker_data = enc_stocks[ticker_name]\n",
    "end_dt = shared.parse_datetime(cfg.prepare.download_end_dt)\n",
    "ticker_dates = ticker_data.iloc[ticker_data.index <= end_dt].index\n",
    "lookback_end_date = ticker_dates[-1]\n",
    "lookback_start_date = ticker_dates[-(1 + submodel_settings.lookback_days)]\n",
    "back_data = ticker_data.iloc[(ticker_data.index >= lookback_start_date) & (ticker_data.index <= lookback_end_date)]\n",
    "print(f\"{submodel_settings.id}> prediction lookback from '{lookback_start_date}' to '{lookback_end_date}' for the next {submodel_settings.label_days} days\")\n",
    "\n",
    "bm_X = provider.generate_relative_benchmark_data(cfg, submodel_settings, enc_benchmarks, lookback_start_date, lookback_end_date)\n",
    "print(f\"{submodel_settings.id}> benchmark data shape: {bm_X.shape}\")\n",
    "X = provider.generate_sample_x(cfg, submodel_settings, ticker_data, bm_X, lookback_start_date, lookback_end_date)\n",
    "print(f\"{submodel_settings.id}> X shape: {X.shape}\")"
   ]
  },
  {
   "cell_type": "code",
   "execution_count": 43,
   "metadata": {},
   "outputs": [
    {
     "data": {
      "text/plain": [
       "array([2.8960767], dtype=float32)"
      ]
     },
     "execution_count": 43,
     "metadata": {},
     "output_type": "execute_result"
    }
   ],
   "source": [
    "mdl = model.create_model(cfg, submodel_settings, ticker_name=ticker_name, train_mode=False, input_shape=X.shape)\n",
    "prediction = mdl.predict(X)[0]\n",
    "prediction"
   ]
  },
  {
   "cell_type": "code",
   "execution_count": 45,
   "metadata": {},
   "outputs": [
    {
     "data": {
      "text/plain": [
       "array([3.8358867], dtype=float32)"
      ]
     },
     "execution_count": 45,
     "metadata": {},
     "output_type": "execute_result"
    }
   ],
   "source": [
    "mdl0 = model.create_model(mdl_cfg, submodel_settings, train_mode=False, input_shape=X.shape)\n",
    "prediction0 = mdl0.predict(X)[0]\n",
    "prediction0"
   ]
  },
  {
   "cell_type": "code",
   "execution_count": null,
   "metadata": {},
   "outputs": [],
   "source": []
  }
 ],
 "metadata": {
  "kernelspec": {
   "display_name": "Python 3",
   "language": "python",
   "name": "python3"
  },
  "language_info": {
   "codemirror_mode": {
    "name": "ipython",
    "version": 3
   },
   "file_extension": ".py",
   "mimetype": "text/x-python",
   "name": "python",
   "nbconvert_exporter": "python",
   "pygments_lexer": "ipython3",
   "version": "3.7.4"
  }
 },
 "nbformat": 4,
 "nbformat_minor": 4
}
