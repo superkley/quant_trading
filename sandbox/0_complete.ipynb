{
 "cells": [
  {
   "cell_type": "code",
   "execution_count": 1,
   "metadata": {},
   "outputs": [],
   "source": [
    "# set env via .env file\n",
    "import sys\n",
    "import pandas as pd\n",
    "import datetime\n",
    "import time\n",
    "import munch\n",
    "import shared\n",
    "import config\n",
    "import model\n",
    "import provider_yfinance as provider"
   ]
  },
  {
   "cell_type": "code",
   "execution_count": 2,
   "metadata": {},
   "outputs": [
    {
     "name": "stdout",
     "output_type": "stream",
     "text": [
      "init> initialize environment\n",
      "TF version: 2.1.0\n",
      "Keras version: 2.2.4-tf\n",
      "Executing op RandomUniform in device /job:localhost/replica:0/task:0/device:CPU:0\n",
      "Executing op Sub in device /job:localhost/replica:0/task:0/device:CPU:0\n",
      "Executing op Mul in device /job:localhost/replica:0/task:0/device:CPU:0\n",
      "Executing op Add in device /job:localhost/replica:0/task:0/device:CPU:0\n",
      "WARNING:tensorflow:From /mnt/c/notebooks/sandbox/config.py:24: is_gpu_available (from tensorflow.python.framework.test_util) is deprecated and will be removed in a future version.\n",
      "Instructions for updating:\n",
      "Use `tf.config.list_physical_devices('GPU')` instead.\n",
      "Is there a GPU available: False\n",
      "Is the Tensor on GPU #0: False\n",
      "Device name: /job:localhost/replica:0/task:0/device:CPU:0\n",
      "Eager Execution enabled: True\n"
     ]
    }
   ],
   "source": [
    "print('init> initialize environment')\n",
    "config.print_env()"
   ]
  },
  {
   "cell_type": "code",
   "execution_count": 3,
   "metadata": {},
   "outputs": [
    {
     "name": "stdout",
     "output_type": "stream",
     "text": [
      "config> current directory:/mnt/c/notebooks/sandbox\n",
      "config> data period: from '2018-02-25' to '2020-01-26'\n",
      "config> download period: from '2017-12-10' to '2020-01-26'\n",
      "shared> parsing stocks from web '^GDAXI' ...\n",
      "config> benchmarks: '['000001.SS', 'AUDUSD=X', 'BTCUSD=X', 'CNY=X', 'ETHUSD=X', 'EURCAD=X', 'EURCHF=X', 'EURGBP=X', 'EURHUF=X', 'EURJPY=X', 'EURJPY=X', 'EURSEK=X', 'EURUSD=X', 'GBPJPY=X', 'GBPUSD=X', 'GC=F', 'HKD=X', 'IDR=X', 'IMOEX.ME', 'INR=X', 'JPY=X', 'KW=F', 'LC=F', 'LH=F', 'MXN=X', 'MYR=X', 'NZDUSD=X', 'PA=F', 'PHP=X', 'PL=F', 'RUB=X', 'S=F', 'SGD=X', 'SI=F', 'SM=F', 'THB=X', 'ZAR=X', '^AORD', '^AXJO', '^BFX', '^BSESN', '^BUK100P', '^BVSP', '^DJI', '^FCHI', '^FTSE', '^GDAXI', '^GSPC', '^GSPTSE', '^HSI', '^IPSA', '^IXIC', '^JKSE', '^JN0U.JO', '^KLSE', '^KS11', '^MERV', '^MXX', '^N100', '^N225', '^NYA', '^NZ50', '^RUT', '^STI', '^STOXX50E', '^TA125.TA', '^TWII', '^VIX', '^XAX']'\n",
      "config> stocks: '['1COV.DE', 'ADS.DE', 'ALV.DE', 'BAS.DE', 'BAYN.DE', 'BEI.DE', 'BMW.DE', 'CON.DE', 'DAI.DE', 'DB1.DE', 'DBK.DE', 'DPW.DE', 'DTE.DE', 'EOAN.DE', 'FME.DE', 'FRE.DE', 'HEI.DE', 'HEN3.DE', 'IFX.DE', 'LHA.DE', 'LIN.DE', 'MRK.DE', 'MUV2.DE', 'RWE.DE', 'SAP.DE', 'SIE.DE', 'TKA.DE', 'VNA.DE', 'VOW3.DE', 'WDI.DE']'\n",
      "config> saved config to '/mnt/c/notebooks/sandbox/config.json'\n",
      "config> created from .env\n",
      "config> config\n",
      "        - base:\n",
      "            - config_file_path: /mnt/c/notebooks/sandbox/config.json\n",
      "        - datasets:\n",
      "            - stocks: 30\n",
      "            - benchmarks: 69\n",
      "        - prepare:\n",
      "            - data_start_dt: 2018-02-25\n",
      "            - data_end_dt: 2020-01-26\n",
      "            - cache_dir: /mnt/c/notebooks/sandbox/cache/20200126/\n",
      "        - train:            \n",
      "            - window_trading_days: [3, 5, 21, 35, 50]\n",
      "            - lag_trading_days: [1, 2, 3, 4, 5]\n",
      "            - label_max_high_weight: 3.0\n",
      "            - label_max_close_weight: 1.0\n",
      "            - settings: 5\n",
      "        - model:\n",
      "            - max_samples: 40\n",
      "            - batch_size: 32\n",
      "            - learning_rate: 0.1\n",
      "            - learning_rate_decay: 0.75\n",
      "            - lstm_hidden_size: 256\n",
      "            - early_stopping_patience: 10\n",
      "            - validation_monitor: val_mean_squared_error\n",
      "            - max_epochs: 1000\n",
      "            - base_dir: /mnt/c/notebooks/sandbox/model/20200126/            \n",
      "        \n"
     ]
    }
   ],
   "source": [
    "cfg = config.get_config('^GDAXI', True)\n",
    "#config.overwrite_end_dt(cfg, '2020-01-16')\n",
    "#config.save_config(cfg)"
   ]
  },
  {
   "cell_type": "code",
   "execution_count": 4,
   "metadata": {},
   "outputs": [
    {
     "name": "stdout",
     "output_type": "stream",
     "text": [
      "download> start downloading data 2020-01-26 ...\n"
     ]
    }
   ],
   "source": [
    "print(f'download> start downloading data {cfg.prepare.data_end_dt} ...')\n",
    "start_ts = time.time()"
   ]
  },
  {
   "cell_type": "code",
   "execution_count": 5,
   "metadata": {},
   "outputs": [
    {
     "name": "stdout",
     "output_type": "stream",
     "text": [
      "shared> failed to load pickle file: '/mnt/c/notebooks/sandbox/cache/20200126/stocks_1d.pkl'\n",
      "shared> failed to load pickle file: '/mnt/c/notebooks/sandbox/cache/20200126/stocks_1d_meta.pkl'\n",
      "tickers-stocks> downloading histories ...\n",
      "[*********************100%***********************]  30 of 30 completed\n",
      "WARN: tickers-stocks> #missing: 35695\n",
      "ticker-1COV.DE> loading ticker data ...\n",
      "ticker-ADS.DE> loading ticker data ...\n",
      "ticker-ALV.DE> loading ticker data ...\n",
      "ticker-BAS.DE> loading ticker data ...\n",
      "ticker-BAYN.DE> loading ticker data ...\n",
      "ticker-BEI.DE> loading ticker data ...\n",
      "WARN: ticker-BEI.DE> #missing: 10\n",
      "ticker-BMW.DE> loading ticker data ...\n",
      "ticker-CON.DE> loading ticker data ...\n",
      "yf-cashflowStatementHistory> internal error: Internal Server Error\n",
      "yf-cashflowStatementHistoryQuarterly> internal error: Internal Server Error\n",
      "yf-balanceSheetHistory> internal error: Internal Server Error\n",
      "yf-balanceSheetHistoryQuarterly> internal error: Internal Server Error\n",
      "yf-incomeStatementHistory> internal error: Internal Server Error\n",
      "yf-incomeStatementHistoryQuarterly> internal error: Internal Server Error\n",
      "yf-earnings> internal error: Internal Server Error\n",
      "ticker-DAI.DE> loading ticker data ...\n",
      "ticker-DB1.DE> loading ticker data ...\n",
      "ticker-DBK.DE> loading ticker data ...\n",
      "WARN: ticker-DBK.DE> #missing: 5\n",
      "ticker-DPW.DE> loading ticker data ...\n",
      "ticker-DTE.DE> loading ticker data ...\n",
      "ticker-EOAN.DE> loading ticker data ...\n",
      "WARN: ticker-EOAN.DE> #missing: 105\n",
      "ticker-FME.DE> loading ticker data ...\n",
      "ticker-FRE.DE> loading ticker data ...\n",
      "ticker-HEI.DE> loading ticker data ...\n",
      "ticker-HEN3.DE> loading ticker data ...\n",
      "ticker-IFX.DE> loading ticker data ...\n",
      "ticker-LHA.DE> loading ticker data ...\n",
      "ticker-LIN.DE> loading ticker data ...\n",
      "ticker-MRK.DE> loading ticker data ...\n",
      "WARN: ticker-MRK.DE> #missing: 5\n",
      "ticker-MUV2.DE> loading ticker data ...\n",
      "ticker-RWE.DE> loading ticker data ...\n",
      "ticker-SAP.DE> loading ticker data ...\n",
      "ticker-SIE.DE> loading ticker data ...\n",
      "ticker-TKA.DE> loading ticker data ...\n",
      "WARN: ticker-TKA.DE> #missing: 5\n",
      "ticker-VNA.DE> loading ticker data ...\n",
      "ticker-VOW3.DE> loading ticker data ...\n",
      "ticker-WDI.DE> loading ticker data ...\n",
      "CPU times: user 12.6 s, sys: 1.94 s, total: 14.6 s\n",
      "Wall time: 1min 6s\n"
     ]
    }
   ],
   "source": [
    "%%time\n",
    "# total: 17 s\n",
    "# compact: 1m\n",
    "\n",
    "cfg_stocks, data_stocks = provider.load_stocks(cfg, compact=True)"
   ]
  },
  {
   "cell_type": "code",
   "execution_count": 6,
   "metadata": {},
   "outputs": [
    {
     "name": "stdout",
     "output_type": "stream",
     "text": [
      "shared> failed to load pickle file: '/mnt/c/notebooks/sandbox/cache/20200126/benchmarks_1d.pkl'\n",
      "shared> failed to load pickle file: '/mnt/c/notebooks/sandbox/cache/20200126/benchmarks_1d_meta.pkl'\n",
      "tickers-benchmarks> downloading histories ...\n",
      "[*********************100%***********************]  68 of 68 completed\n",
      "WARN: tickers-benchmarks> #missing: 196805\n",
      "ticker-000001.SS> loading ticker data ...\n",
      "ticker-AUDUSD=X> loading ticker data ...\n",
      "ticker-BTCUSD=X> loading ticker data ...\n",
      "ticker-CNY=X> loading ticker data ...\n",
      "ticker-ETHUSD=X> loading ticker data ...\n",
      "ticker-EURCAD=X> loading ticker data ...\n",
      "ticker-EURCHF=X> loading ticker data ...\n",
      "ticker-EURGBP=X> loading ticker data ...\n",
      "ticker-EURHUF=X> loading ticker data ...\n",
      "ticker-EURJPY=X> loading ticker data ...\n",
      "ticker-EURJPY=X> loading ticker data ...\n",
      "ticker-EURSEK=X> loading ticker data ...\n",
      "ticker-EURUSD=X> loading ticker data ...\n",
      "ticker-GBPJPY=X> loading ticker data ...\n",
      "ticker-GBPUSD=X> loading ticker data ...\n",
      "ticker-GC=F> loading ticker data ...\n",
      "ticker-HKD=X> loading ticker data ...\n",
      "ticker-IDR=X> loading ticker data ...\n",
      "ticker-IMOEX.ME> loading ticker data ...\n",
      "ticker-INR=X> loading ticker data ...\n",
      "ticker-JPY=X> loading ticker data ...\n",
      "ticker-KW=F> loading ticker data ...\n",
      "ticker-LC=F> loading ticker data ...\n",
      "ticker-LH=F> loading ticker data ...\n",
      "ticker-MXN=X> loading ticker data ...\n",
      "ticker-MYR=X> loading ticker data ...\n",
      "ticker-NZDUSD=X> loading ticker data ...\n",
      "ticker-PA=F> loading ticker data ...\n",
      "ticker-PHP=X> loading ticker data ...\n",
      "ticker-PL=F> loading ticker data ...\n",
      "ticker-RUB=X> loading ticker data ...\n",
      "ticker-S=F> loading ticker data ...\n",
      "ticker-SGD=X> loading ticker data ...\n",
      "ticker-SI=F> loading ticker data ...\n",
      "ticker-SM=F> loading ticker data ...\n",
      "ticker-THB=X> loading ticker data ...\n",
      "ticker-ZAR=X> loading ticker data ...\n",
      "ticker-^AORD> loading ticker data ...\n",
      "ticker-^AXJO> loading ticker data ...\n",
      "ticker-^BFX> loading ticker data ...\n",
      "ticker-^BSESN> loading ticker data ...\n",
      "ticker-^BUK100P> loading ticker data ...\n",
      "ticker-^BVSP> loading ticker data ...\n",
      "ticker-^DJI> loading ticker data ...\n",
      "ticker-^FCHI> loading ticker data ...\n",
      "ticker-^FTSE> loading ticker data ...\n",
      "ticker-^GDAXI> loading ticker data ...\n",
      "ticker-^GSPC> loading ticker data ...\n",
      "ticker-^GSPTSE> loading ticker data ...\n",
      "ticker-^HSI> loading ticker data ...\n",
      "ticker-^IPSA> loading ticker data ...\n",
      "ticker-^IXIC> loading ticker data ...\n",
      "ticker-^JKSE> loading ticker data ...\n",
      "ticker-^JN0U.JO> loading ticker data ...\n",
      "ticker-^KLSE> loading ticker data ...\n",
      "ticker-^KS11> loading ticker data ...\n",
      "ticker-^MERV> loading ticker data ...\n",
      "ticker-^MXX> loading ticker data ...\n",
      "ticker-^N100> loading ticker data ...\n",
      "ticker-^N225> loading ticker data ...\n",
      "ticker-^NYA> loading ticker data ...\n",
      "ticker-^NZ50> loading ticker data ...\n",
      "ticker-^RUT> loading ticker data ...\n",
      "ticker-^STI> loading ticker data ...\n",
      "ticker-^STOXX50E> loading ticker data ...\n",
      "ticker-^TA125.TA> loading ticker data ...\n",
      "ticker-^TWII> loading ticker data ...\n",
      "ticker-^VIX> loading ticker data ...\n",
      "ticker-^XAX> loading ticker data ...\n",
      "CPU times: user 17.8 s, sys: 4.14 s, total: 22 s\n",
      "Wall time: 2min 2s\n"
     ]
    }
   ],
   "source": [
    "%%time\n",
    "# total (download): 1h\n",
    "# total (cached): 25 s\n",
    "# compact: 3m\n",
    "\n",
    "cfg_benchmarks, data_benchmarks = provider.load_benchmarks(cfg, compact=True)"
   ]
  },
  {
   "cell_type": "code",
   "execution_count": 7,
   "metadata": {},
   "outputs": [
    {
     "name": "stdout",
     "output_type": "stream",
     "text": [
      "download> download finished, duration: 188.25 s\n"
     ]
    }
   ],
   "source": [
    "duration = time.time() - start_ts\n",
    "print(f'download> download finished, duration: {duration:.2f} s')"
   ]
  },
  {
   "cell_type": "code",
   "execution_count": 8,
   "metadata": {},
   "outputs": [
    {
     "name": "stdout",
     "output_type": "stream",
     "text": [
      "prepare> preparing data ...\n"
     ]
    }
   ],
   "source": [
    "start_ts = time.time()\n",
    "print(f'prepare> preparing data ...')"
   ]
  },
  {
   "cell_type": "code",
   "execution_count": 9,
   "metadata": {},
   "outputs": [
    {
     "name": "stdout",
     "output_type": "stream",
     "text": [
      "CPU times: user 188 ms, sys: 62.5 ms, total: 250 ms\n",
      "Wall time: 261 ms\n"
     ]
    }
   ],
   "source": [
    "%%time \n",
    "# 344 ms\n",
    "cfg_stocks, data_stocks = provider.load_stocks(cfg)\n",
    "cfg_benchmarks, data_benchmarks = provider.load_benchmarks(cfg)"
   ]
  },
  {
   "cell_type": "code",
   "execution_count": 10,
   "metadata": {},
   "outputs": [
    {
     "name": "stdout",
     "output_type": "stream",
     "text": [
      "shared> failed to load pickle file: '/mnt/c/notebooks/sandbox/cache/20200126//stocks_prep.pkl'\n",
      "shared> prepare stock '1COV.DE' from '2018-02-25' (avail: '2015-10-06') to '2020-01-26'\n",
      "shared> prepare stock 'ADS.DE' from '2018-02-25' (avail: '1998-06-24') to '2020-01-26'\n",
      "shared> prepare stock 'ALV.DE' from '2018-02-25' (avail: '1996-12-16') to '2020-01-26'\n",
      "shared> prepare stock 'BAS.DE' from '2018-02-25' (avail: '1996-12-16') to '2020-01-26'\n",
      "shared> prepare stock 'BAYN.DE' from '2018-02-25' (avail: '1996-12-16') to '2020-01-26'\n",
      "shared> prepare stock 'BEI.DE' from '2018-02-25' (avail: '1998-07-22') to '2020-01-26'\n",
      "shared> prepare stock 'BMW.DE' from '2018-02-25' (avail: '1996-11-08') to '2020-01-26'\n",
      "shared> prepare stock 'CON.DE' from '2018-02-25' (avail: '1996-12-16') to '2020-01-26'\n",
      "shared> prepare stock 'DAI.DE' from '2018-02-25' (avail: '1996-10-30') to '2020-01-26'\n",
      "shared> prepare stock 'DB1.DE' from '2018-02-25' (avail: '2001-02-05') to '2020-01-26'\n",
      "shared> prepare stock 'DBK.DE' from '2018-02-25' (avail: '1996-11-18') to '2020-01-26'\n",
      "shared> prepare stock 'DPW.DE' from '2018-02-25' (avail: '2000-11-20') to '2020-01-26'\n",
      "shared> prepare stock 'DTE.DE' from '2018-02-25' (avail: '1996-11-18') to '2020-01-26'\n",
      "shared> prepare stock 'EOAN.DE' from '2018-02-25' (avail: '2001-05-21') to '2020-01-26'\n",
      "shared> prepare stock 'FME.DE' from '2018-02-25' (avail: '1998-07-22') to '2020-01-26'\n",
      "shared> prepare stock 'FRE.DE' from '2018-02-25' (avail: '2019-06-03') to '2020-01-26'\n",
      "shared> prepare stock 'HEI.DE' from '2018-02-25' (avail: '1998-07-27') to '2020-01-26'\n",
      "shared> prepare stock 'HEN3.DE' from '2018-02-25' (avail: '1998-06-24') to '2020-01-26'\n",
      "shared> prepare stock 'IFX.DE' from '2018-02-25' (avail: '2000-03-13') to '2020-01-26'\n",
      "shared> prepare stock 'LHA.DE' from '2018-02-25' (avail: '1996-12-16') to '2020-01-26'\n",
      "shared> prepare stock 'LIN.DE' from '2018-02-25' (avail: '1998-06-24') to '2020-01-26'\n",
      "shared> prepare stock 'MRK.DE' from '2018-02-25' (avail: '1998-06-26') to '2020-01-26'\n",
      "shared> prepare stock 'MUV2.DE' from '2018-02-25' (avail: '1998-06-24') to '2020-01-26'\n",
      "shared> prepare stock 'RWE.DE' from '2018-02-25' (avail: '1996-12-16') to '2020-01-26'\n",
      "shared> prepare stock 'SAP.DE' from '2018-02-25' (avail: '1998-04-09') to '2020-01-26'\n",
      "shared> prepare stock 'SIE.DE' from '2018-02-25' (avail: '1996-11-08') to '2020-01-26'\n",
      "shared> prepare stock 'TKA.DE' from '2018-02-25' (avail: '1999-03-26') to '2020-01-26'\n",
      "shared> prepare stock 'VNA.DE' from '2018-02-25' (avail: '2013-07-11') to '2020-01-26'\n",
      "shared> prepare stock 'VOW3.DE' from '2018-02-25' (avail: '1998-07-22') to '2020-01-26'\n",
      "shared> prepare stock 'WDI.DE' from '2018-02-25' (avail: '2006-11-20') to '2020-01-26'\n",
      "shared> failed to load pickle file: '/mnt/c/notebooks/sandbox/cache/20200126//benchmarks_prep.pkl'\n",
      "shared> prepare benchmark '000001.SS' from '2018-02-25' (avail: '1990-12-19') to '2020-01-26'\n",
      "shared> prepare benchmark 'AUDUSD=X' from '2018-02-25' (avail: '2006-05-16') to '2020-01-26'\n",
      "shared> prepare benchmark 'BTCUSD=X' from '2018-02-25' (avail: '2010-07-19') to '2020-01-26'\n",
      "shared> prepare benchmark 'CNY=X' from '2018-02-25' (avail: '2001-05-31') to '2020-01-26'\n",
      "shared> prepare benchmark 'ETHUSD=X' from '2018-02-25' (avail: '2015-08-07') to '2020-01-26'\n",
      "shared> prepare benchmark 'EURCAD=X' from '2018-02-25' (avail: '2003-12-01') to '2020-01-26'\n",
      "shared> prepare benchmark 'EURCHF=X' from '2018-02-25' (avail: '2003-01-23') to '2020-01-26'\n",
      "shared> prepare benchmark 'EURGBP=X' from '2018-02-25' (avail: '1999-01-04') to '2020-01-26'\n",
      "shared> prepare benchmark 'EURHUF=X' from '2018-02-25' (avail: '2003-12-01') to '2020-01-26'\n",
      "shared> prepare benchmark 'EURJPY=X' from '2018-02-25' (avail: '2003-01-23') to '2020-01-26'\n",
      "shared> prepare benchmark 'EURSEK=X' from '2018-02-25' (avail: '1998-11-18') to '2020-01-26'\n",
      "shared> prepare benchmark 'EURUSD=X' from '2018-02-25' (avail: '2003-12-01') to '2020-01-26'\n",
      "shared> prepare benchmark 'GBPJPY=X' from '2018-02-25' (avail: '2003-12-01') to '2020-01-26'\n",
      "shared> prepare benchmark 'GBPUSD=X' from '2018-02-25' (avail: '2003-12-01') to '2020-01-26'\n",
      "shared> prepare benchmark 'GC=F' from '2018-02-25' (avail: '2019-12-30') to '2020-01-26'\n",
      "shared> prepare benchmark 'HKD=X' from '2018-02-25' (avail: '2001-07-16') to '2020-01-26'\n",
      "shared> prepare benchmark 'IDR=X' from '2018-02-25' (avail: '2001-06-26') to '2020-01-26'\n",
      "shared> prepare benchmark 'IMOEX.ME' from '2018-02-25' (avail: '2013-03-04') to '2020-01-26'\n",
      "shared> prepare benchmark 'INR=X' from '2018-02-25' (avail: '2003-12-01') to '2020-01-26'\n",
      "shared> prepare benchmark 'JPY=X' from '2018-02-25' (avail: '1996-10-30') to '2020-01-26'\n",
      "shared> prepare benchmark 'KW=F' from '2018-02-25' (avail: '2019-05-17') to '2020-01-26'\n",
      "shared> prepare benchmark 'LC=F' from '2018-02-25' (avail: '2020-01-13') to '2020-01-26'\n",
      "shared> prepare benchmark 'LH=F' from '2018-02-25' (avail: '2020-01-06') to '2020-01-26'\n",
      "shared> prepare benchmark 'MXN=X' from '2018-02-25' (avail: '2003-12-01') to '2020-01-26'\n",
      "shared> prepare benchmark 'MYR=X' from '2018-02-25' (avail: '2003-12-01') to '2020-01-26'\n",
      "shared> prepare benchmark 'NZDUSD=X' from '2018-02-25' (avail: '2003-12-01') to '2020-01-26'\n",
      "shared> prepare benchmark 'PA=F' from '2018-02-25' (avail: '2018-12-30') to '2020-01-26'\n",
      "shared> prepare benchmark 'PHP=X' from '2018-02-25' (avail: '2003-12-01') to '2020-01-26'\n",
      "shared> prepare benchmark 'PL=F' from '2018-02-25' (avail: '2017-08-01') to '2020-01-26'\n",
      "shared> prepare benchmark 'RUB=X' from '2018-02-25' (avail: '2003-12-01') to '2020-01-26'\n",
      "shared> prepare benchmark 'S=F' from '2018-02-25' (avail: '2019-05-17') to '2020-01-26'\n",
      "shared> prepare benchmark 'SGD=X' from '2018-02-25' (avail: '2003-12-01') to '2020-01-26'\n",
      "shared> prepare benchmark 'SI=F' from '2018-02-25' (avail: '2019-12-30') to '2020-01-26'\n",
      "shared> prepare benchmark 'SM=F' from '2018-02-25' (avail: '2017-07-31') to '2020-01-26'\n",
      "shared> prepare benchmark 'THB=X' from '2018-02-25' (avail: '2003-12-01') to '2020-01-26'\n",
      "shared> prepare benchmark 'ZAR=X' from '2018-02-25' (avail: '2003-12-01') to '2020-01-26'\n",
      "shared> prepare benchmark '^AORD' from '2018-02-25' (avail: '1984-08-03') to '2020-01-26'\n",
      "shared> prepare benchmark '^AXJO' from '2018-02-25' (avail: '1992-11-23') to '2020-01-26'\n",
      "shared> prepare benchmark '^BFX' from '2018-02-25' (avail: '1991-04-09') to '2020-01-26'\n",
      "shared> prepare benchmark '^BSESN' from '2018-02-25' (avail: '1997-07-01') to '2020-01-26'\n",
      "shared> prepare benchmark '^BUK100P' from '2018-02-25' (avail: '2010-09-17') to '2020-01-26'\n",
      "shared> prepare benchmark '^BVSP' from '2018-02-25' (avail: '1993-04-27') to '2020-01-26'\n",
      "shared> prepare benchmark '^DJI' from '2018-02-25' (avail: '1985-01-29') to '2020-01-26'\n",
      "shared> prepare benchmark '^FCHI' from '2018-02-25' (avail: '1990-03-01') to '2020-01-26'\n",
      "shared> prepare benchmark '^FTSE' from '2018-02-25' (avail: '1984-01-03') to '2020-01-26'\n",
      "shared> prepare benchmark '^GDAXI' from '2018-02-25' (avail: '1987-12-30') to '2020-01-26'\n",
      "shared> prepare benchmark '^GSPC' from '2018-02-25' (avail: '1927-12-30') to '2020-01-26'\n",
      "shared> prepare benchmark '^GSPTSE' from '2018-02-25' (avail: '1979-06-29') to '2020-01-26'\n",
      "shared> prepare benchmark '^HSI' from '2018-02-25' (avail: '1986-12-31') to '2020-01-26'\n",
      "shared> prepare benchmark '^IPSA' from '2018-02-25' (avail: '2002-01-02') to '2020-01-26'\n",
      "shared> prepare benchmark '^IXIC' from '2018-02-25' (avail: '1971-02-05') to '2020-01-26'\n",
      "shared> prepare benchmark '^JKSE' from '2018-02-25' (avail: '1990-04-06') to '2020-01-26'\n",
      "shared> prepare benchmark '^JN0U.JO' from '2018-02-25' (avail: '2017-09-26') to '2020-01-26'\n",
      "shared> prepare benchmark '^KLSE' from '2018-02-25' (avail: '1993-12-03') to '2020-01-26'\n",
      "shared> prepare benchmark '^KS11' from '2018-02-25' (avail: '1997-07-01') to '2020-01-26'\n",
      "shared> prepare benchmark '^MERV' from '2018-02-25' (avail: '1996-10-08') to '2020-01-26'\n",
      "shared> prepare benchmark '^MXX' from '2018-02-25' (avail: '1991-11-08') to '2020-01-26'\n",
      "shared> prepare benchmark '^N100' from '2018-02-25' (avail: '1999-12-31') to '2020-01-26'\n",
      "shared> prepare benchmark '^N225' from '2018-02-25' (avail: '1965-01-05') to '2020-01-26'\n",
      "shared> prepare benchmark '^NYA' from '2018-02-25' (avail: '1965-12-31') to '2020-01-26'\n",
      "shared> prepare benchmark '^NZ50' from '2018-02-25' (avail: '2003-01-03') to '2020-01-26'\n",
      "shared> prepare benchmark '^RUT' from '2018-02-25' (avail: '1987-09-10') to '2020-01-26'\n",
      "shared> prepare benchmark '^STI' from '2018-02-25' (avail: '1987-12-28') to '2020-01-26'\n",
      "shared> prepare benchmark '^STOXX50E' from '2018-02-25' (avail: '1986-12-31') to '2020-01-26'\n",
      "shared> prepare benchmark '^TA125.TA' from '2018-02-25' (avail: '1992-10-08') to '2020-01-26'\n",
      "shared> prepare benchmark '^TWII' from '2018-02-25' (avail: '1997-07-02') to '2020-01-26'\n",
      "shared> prepare benchmark '^VIX' from '2018-02-25' (avail: '1990-01-02') to '2020-01-26'\n",
      "shared> prepare benchmark '^XAX' from '2018-02-25' (avail: '1995-12-27') to '2020-01-26'\n",
      "CPU times: user 2.02 s, sys: 78.1 ms, total: 2.09 s\n",
      "Wall time: 2.04 s\n"
     ]
    }
   ],
   "source": [
    "%%time \n",
    "# total: 2.55 s\n",
    "prep_stocks = provider.prepare_stocks(cfg, data_stocks)\n",
    "prep_benchmarks = provider.prepare_benchmarks(cfg, data_benchmarks)"
   ]
  },
  {
   "cell_type": "code",
   "execution_count": 11,
   "metadata": {},
   "outputs": [
    {
     "name": "stdout",
     "output_type": "stream",
     "text": [
      "shared> failed to load pickle file: '/mnt/c/notebooks/sandbox/cache/20200126//stocks_enc.pkl'\n",
      "shared> failed to load pickle file: '/mnt/c/notebooks/sandbox/cache/20200126//benchmarks_enc.pkl'\n",
      "CPU times: user 938 ms, sys: 78.1 ms, total: 1.02 s\n",
      "Wall time: 974 ms\n"
     ]
    }
   ],
   "source": [
    "%%time\n",
    "# total: 1.2 s\n",
    "enc_stocks = provider.encode_stocks(cfg, prep_stocks)\n",
    "enc_benchmarks = provider.encode_benchmarks(cfg, prep_benchmarks, prep_stocks)"
   ]
  },
  {
   "cell_type": "code",
   "execution_count": 12,
   "metadata": {},
   "outputs": [
    {
     "name": "stdout",
     "output_type": "stream",
     "text": [
      "sm-lookback_3-label_1> preparing submodel data ...\n",
      "shared> failed to load pickle file: '/mnt/c/notebooks/sandbox/cache/20200126/lookback_3-label_1/submodel_data.pkl'\n",
      "sm-lookback_3-label_1> generating relative benchmarks data ...\n",
      "sm-lookback_3-label_1> preparing stock: '1COV.DE' ...\n"
     ]
    },
    {
     "name": "stderr",
     "output_type": "stream",
     "text": [
      "Using TensorFlow backend.\n"
     ]
    },
    {
     "name": "stdout",
     "output_type": "stream",
     "text": [
      "sm-lookback_3-label_1> preparing stock: 'ADS.DE' ...\n",
      "sm-lookback_3-label_1> preparing stock: 'ALV.DE' ...\n",
      "sm-lookback_3-label_1> preparing stock: 'BAS.DE' ...\n",
      "sm-lookback_3-label_1> preparing stock: 'BAYN.DE' ...\n",
      "sm-lookback_3-label_1> preparing stock: 'BEI.DE' ...\n",
      "sm-lookback_3-label_1> preparing stock: 'BMW.DE' ...\n",
      "sm-lookback_3-label_1> preparing stock: 'CON.DE' ...\n",
      "sm-lookback_3-label_1> preparing stock: 'DAI.DE' ...\n",
      "sm-lookback_3-label_1> preparing stock: 'DB1.DE' ...\n",
      "sm-lookback_3-label_1> preparing stock: 'DBK.DE' ...\n",
      "sm-lookback_3-label_1> preparing stock: 'DPW.DE' ...\n",
      "sm-lookback_3-label_1> preparing stock: 'DTE.DE' ...\n",
      "sm-lookback_3-label_1> preparing stock: 'EOAN.DE' ...\n",
      "WARN seq-1> no further previous year data available!\n",
      "WARN seq-2> no further previous year data available!\n",
      "WARN seq-3> no further previous year data available!\n",
      "WARN seq-4> no further previous year data available!\n",
      "WARN seq-5> no further previous year data available!\n",
      "WARN seq-6> no further previous year data available!\n",
      "WARN seq-7> no further previous year data available!\n",
      "sm-lookback_3-label_1> preparing stock: 'FME.DE' ...\n",
      "sm-lookback_3-label_1> preparing stock: 'FRE.DE' ...\n",
      "WARN seq-0> no previous year data available!\n",
      "sm-lookback_3-label_1> preparing stock: 'HEI.DE' ...\n",
      "sm-lookback_3-label_1> preparing stock: 'HEN3.DE' ...\n",
      "sm-lookback_3-label_1> preparing stock: 'IFX.DE' ...\n",
      "sm-lookback_3-label_1> preparing stock: 'LHA.DE' ...\n",
      "sm-lookback_3-label_1> preparing stock: 'LIN.DE' ...\n",
      "sm-lookback_3-label_1> preparing stock: 'MRK.DE' ...\n",
      "sm-lookback_3-label_1> preparing stock: 'MUV2.DE' ...\n",
      "sm-lookback_3-label_1> preparing stock: 'RWE.DE' ...\n",
      "sm-lookback_3-label_1> preparing stock: 'SAP.DE' ...\n",
      "sm-lookback_3-label_1> preparing stock: 'SIE.DE' ...\n",
      "sm-lookback_3-label_1> preparing stock: 'TKA.DE' ...\n",
      "sm-lookback_3-label_1> preparing stock: 'VNA.DE' ...\n",
      "sm-lookback_3-label_1> preparing stock: 'VOW3.DE' ...\n",
      "sm-lookback_3-label_1> preparing stock: 'WDI.DE' ...\n",
      "sm-lookback_3-label_2> preparing submodel data ...\n",
      "shared> failed to load pickle file: '/mnt/c/notebooks/sandbox/cache/20200126/lookback_3-label_2/submodel_data.pkl'\n",
      "sm-lookback_3-label_2> generating relative benchmarks data ...\n",
      "sm-lookback_3-label_2> preparing stock: '1COV.DE' ...\n",
      "sm-lookback_3-label_2> preparing stock: 'ADS.DE' ...\n",
      "sm-lookback_3-label_2> preparing stock: 'ALV.DE' ...\n",
      "sm-lookback_3-label_2> preparing stock: 'BAS.DE' ...\n",
      "sm-lookback_3-label_2> preparing stock: 'BAYN.DE' ...\n",
      "sm-lookback_3-label_2> preparing stock: 'BEI.DE' ...\n",
      "sm-lookback_3-label_2> preparing stock: 'BMW.DE' ...\n",
      "sm-lookback_3-label_2> preparing stock: 'CON.DE' ...\n",
      "sm-lookback_3-label_2> preparing stock: 'DAI.DE' ...\n",
      "sm-lookback_3-label_2> preparing stock: 'DB1.DE' ...\n",
      "sm-lookback_3-label_2> preparing stock: 'DBK.DE' ...\n",
      "sm-lookback_3-label_2> preparing stock: 'DPW.DE' ...\n",
      "sm-lookback_3-label_2> preparing stock: 'DTE.DE' ...\n",
      "sm-lookback_3-label_2> preparing stock: 'EOAN.DE' ...\n",
      "WARN seq-1> no further previous year data available!\n",
      "WARN seq-2> no further previous year data available!\n",
      "WARN seq-3> no further previous year data available!\n",
      "WARN seq-4> no further previous year data available!\n",
      "WARN seq-5> no further previous year data available!\n",
      "WARN seq-6> no further previous year data available!\n",
      "WARN seq-7> no further previous year data available!\n",
      "sm-lookback_3-label_2> preparing stock: 'FME.DE' ...\n",
      "sm-lookback_3-label_2> preparing stock: 'FRE.DE' ...\n",
      "WARN seq-0> no previous year data available!\n",
      "sm-lookback_3-label_2> preparing stock: 'HEI.DE' ...\n",
      "sm-lookback_3-label_2> preparing stock: 'HEN3.DE' ...\n",
      "sm-lookback_3-label_2> preparing stock: 'IFX.DE' ...\n",
      "sm-lookback_3-label_2> preparing stock: 'LHA.DE' ...\n",
      "sm-lookback_3-label_2> preparing stock: 'LIN.DE' ...\n",
      "sm-lookback_3-label_2> preparing stock: 'MRK.DE' ...\n",
      "sm-lookback_3-label_2> preparing stock: 'MUV2.DE' ...\n",
      "sm-lookback_3-label_2> preparing stock: 'RWE.DE' ...\n",
      "sm-lookback_3-label_2> preparing stock: 'SAP.DE' ...\n",
      "sm-lookback_3-label_2> preparing stock: 'SIE.DE' ...\n",
      "sm-lookback_3-label_2> preparing stock: 'TKA.DE' ...\n",
      "sm-lookback_3-label_2> preparing stock: 'VNA.DE' ...\n",
      "sm-lookback_3-label_2> preparing stock: 'VOW3.DE' ...\n",
      "sm-lookback_3-label_2> preparing stock: 'WDI.DE' ...\n",
      "sm-lookback_5-label_1> preparing submodel data ...\n",
      "shared> failed to load pickle file: '/mnt/c/notebooks/sandbox/cache/20200126/lookback_5-label_1/submodel_data.pkl'\n",
      "sm-lookback_5-label_1> generating relative benchmarks data ...\n",
      "sm-lookback_5-label_1> preparing stock: '1COV.DE' ...\n",
      "sm-lookback_5-label_1> preparing stock: 'ADS.DE' ...\n",
      "sm-lookback_5-label_1> preparing stock: 'ALV.DE' ...\n",
      "sm-lookback_5-label_1> preparing stock: 'BAS.DE' ...\n",
      "sm-lookback_5-label_1> preparing stock: 'BAYN.DE' ...\n",
      "sm-lookback_5-label_1> preparing stock: 'BEI.DE' ...\n",
      "sm-lookback_5-label_1> preparing stock: 'BMW.DE' ...\n",
      "sm-lookback_5-label_1> preparing stock: 'CON.DE' ...\n",
      "sm-lookback_5-label_1> preparing stock: 'DAI.DE' ...\n",
      "sm-lookback_5-label_1> preparing stock: 'DB1.DE' ...\n",
      "sm-lookback_5-label_1> preparing stock: 'DBK.DE' ...\n",
      "sm-lookback_5-label_1> preparing stock: 'DPW.DE' ...\n",
      "sm-lookback_5-label_1> preparing stock: 'DTE.DE' ...\n",
      "sm-lookback_5-label_1> preparing stock: 'EOAN.DE' ...\n",
      "WARN seq-1> no further previous year data available!\n",
      "WARN seq-2> no further previous year data available!\n",
      "WARN seq-3> no further previous year data available!\n",
      "WARN seq-4> no further previous year data available!\n",
      "WARN seq-5> no further previous year data available!\n",
      "WARN seq-6> no further previous year data available!\n",
      "WARN seq-7> no further previous year data available!\n",
      "WARN seq-8> no further previous year data available!\n",
      "WARN seq-9> no further previous year data available!\n",
      "sm-lookback_5-label_1> preparing stock: 'FME.DE' ...\n",
      "sm-lookback_5-label_1> preparing stock: 'FRE.DE' ...\n",
      "WARN seq-0> no previous year data available!\n",
      "sm-lookback_5-label_1> preparing stock: 'HEI.DE' ...\n",
      "sm-lookback_5-label_1> preparing stock: 'HEN3.DE' ...\n",
      "sm-lookback_5-label_1> preparing stock: 'IFX.DE' ...\n",
      "sm-lookback_5-label_1> preparing stock: 'LHA.DE' ...\n",
      "sm-lookback_5-label_1> preparing stock: 'LIN.DE' ...\n",
      "sm-lookback_5-label_1> preparing stock: 'MRK.DE' ...\n",
      "sm-lookback_5-label_1> preparing stock: 'MUV2.DE' ...\n",
      "sm-lookback_5-label_1> preparing stock: 'RWE.DE' ...\n",
      "sm-lookback_5-label_1> preparing stock: 'SAP.DE' ...\n",
      "sm-lookback_5-label_1> preparing stock: 'SIE.DE' ...\n",
      "sm-lookback_5-label_1> preparing stock: 'TKA.DE' ...\n",
      "sm-lookback_5-label_1> preparing stock: 'VNA.DE' ...\n",
      "sm-lookback_5-label_1> preparing stock: 'VOW3.DE' ...\n",
      "sm-lookback_5-label_1> preparing stock: 'WDI.DE' ...\n",
      "sm-lookback_21-label_5> preparing submodel data ...\n",
      "shared> failed to load pickle file: '/mnt/c/notebooks/sandbox/cache/20200126/lookback_21-label_5/submodel_data.pkl'\n",
      "sm-lookback_21-label_5> generating relative benchmarks data ...\n",
      "sm-lookback_21-label_5> preparing stock: '1COV.DE' ...\n",
      "sm-lookback_21-label_5> preparing stock: 'ADS.DE' ...\n",
      "sm-lookback_21-label_5> preparing stock: 'ALV.DE' ...\n",
      "sm-lookback_21-label_5> preparing stock: 'BAS.DE' ...\n",
      "sm-lookback_21-label_5> preparing stock: 'BAYN.DE' ...\n",
      "sm-lookback_21-label_5> preparing stock: 'BEI.DE' ...\n",
      "sm-lookback_21-label_5> preparing stock: 'BMW.DE' ...\n",
      "sm-lookback_21-label_5> preparing stock: 'CON.DE' ...\n",
      "sm-lookback_21-label_5> preparing stock: 'DAI.DE' ...\n",
      "sm-lookback_21-label_5> preparing stock: 'DB1.DE' ...\n",
      "sm-lookback_21-label_5> preparing stock: 'DBK.DE' ...\n",
      "sm-lookback_21-label_5> preparing stock: 'DPW.DE' ...\n",
      "sm-lookback_21-label_5> preparing stock: 'DTE.DE' ...\n",
      "sm-lookback_21-label_5> preparing stock: 'EOAN.DE' ...\n",
      "WARN seq-1> no further previous year data available!\n",
      "WARN seq-2> no further previous year data available!\n",
      "WARN seq-3> no further previous year data available!\n",
      "WARN seq-4> no further previous year data available!\n",
      "WARN seq-5> no further previous year data available!\n",
      "WARN seq-6> no further previous year data available!\n",
      "WARN seq-7> no further previous year data available!\n",
      "WARN seq-8> no further previous year data available!\n",
      "WARN seq-9> no further previous year data available!\n",
      "WARN seq-10> no further previous year data available!\n",
      "WARN seq-11> no further previous year data available!\n",
      "WARN seq-12> no further previous year data available!\n",
      "WARN seq-13> no further previous year data available!\n",
      "WARN seq-14> no further previous year data available!\n",
      "WARN seq-15> no further previous year data available!\n",
      "WARN seq-16> no further previous year data available!\n",
      "WARN seq-17> no further previous year data available!\n",
      "WARN seq-18> no further previous year data available!\n",
      "WARN seq-19> no further previous year data available!\n",
      "WARN seq-20> no further previous year data available!\n",
      "WARN seq-21> no further previous year data available!\n",
      "WARN seq-22> no further previous year data available!\n",
      "WARN seq-23> no further previous year data available!\n",
      "WARN seq-24> no further previous year data available!\n",
      "WARN seq-25> no further previous year data available!\n",
      "sm-lookback_21-label_5> preparing stock: 'FME.DE' ...\n",
      "sm-lookback_21-label_5> preparing stock: 'FRE.DE' ...\n",
      "WARN seq-0> no previous year data available!\n",
      "sm-lookback_21-label_5> preparing stock: 'HEI.DE' ...\n",
      "sm-lookback_21-label_5> preparing stock: 'HEN3.DE' ...\n",
      "sm-lookback_21-label_5> preparing stock: 'IFX.DE' ...\n",
      "sm-lookback_21-label_5> preparing stock: 'LHA.DE' ...\n",
      "sm-lookback_21-label_5> preparing stock: 'LIN.DE' ...\n",
      "sm-lookback_21-label_5> preparing stock: 'MRK.DE' ...\n",
      "sm-lookback_21-label_5> preparing stock: 'MUV2.DE' ...\n",
      "sm-lookback_21-label_5> preparing stock: 'RWE.DE' ...\n",
      "sm-lookback_21-label_5> preparing stock: 'SAP.DE' ...\n",
      "sm-lookback_21-label_5> preparing stock: 'SIE.DE' ...\n",
      "sm-lookback_21-label_5> preparing stock: 'TKA.DE' ...\n",
      "sm-lookback_21-label_5> preparing stock: 'VNA.DE' ...\n",
      "sm-lookback_21-label_5> preparing stock: 'VOW3.DE' ...\n",
      "sm-lookback_21-label_5> preparing stock: 'WDI.DE' ...\n",
      "sm-lookback_100-label_7> preparing submodel data ...\n",
      "shared> failed to load pickle file: '/mnt/c/notebooks/sandbox/cache/20200126/lookback_100-label_7/submodel_data.pkl'\n",
      "sm-lookback_100-label_7> generating relative benchmarks data ...\n",
      "sm-lookback_100-label_7> preparing stock: '1COV.DE' ...\n",
      "sm-lookback_100-label_7> preparing stock: 'ADS.DE' ...\n",
      "sm-lookback_100-label_7> preparing stock: 'ALV.DE' ...\n",
      "sm-lookback_100-label_7> preparing stock: 'BAS.DE' ...\n",
      "sm-lookback_100-label_7> preparing stock: 'BAYN.DE' ...\n",
      "sm-lookback_100-label_7> preparing stock: 'BEI.DE' ...\n",
      "sm-lookback_100-label_7> preparing stock: 'BMW.DE' ...\n",
      "sm-lookback_100-label_7> preparing stock: 'CON.DE' ...\n",
      "sm-lookback_100-label_7> preparing stock: 'DAI.DE' ...\n",
      "sm-lookback_100-label_7> preparing stock: 'DB1.DE' ...\n",
      "sm-lookback_100-label_7> preparing stock: 'DBK.DE' ...\n",
      "sm-lookback_100-label_7> preparing stock: 'DPW.DE' ...\n",
      "sm-lookback_100-label_7> preparing stock: 'DTE.DE' ...\n",
      "sm-lookback_100-label_7> preparing stock: 'EOAN.DE' ...\n",
      "WARN seq-1> no further previous year data available!\n",
      "WARN seq-2> no further previous year data available!\n",
      "WARN seq-3> no further previous year data available!\n",
      "WARN seq-4> no further previous year data available!\n",
      "WARN seq-5> no further previous year data available!\n",
      "WARN seq-6> no further previous year data available!\n",
      "WARN seq-7> no further previous year data available!\n",
      "WARN seq-8> no further previous year data available!\n",
      "WARN seq-9> no further previous year data available!\n",
      "WARN seq-10> no further previous year data available!\n",
      "WARN seq-11> no further previous year data available!\n",
      "WARN seq-12> no further previous year data available!\n",
      "WARN seq-13> no further previous year data available!\n",
      "WARN seq-14> no further previous year data available!\n",
      "WARN seq-15> no further previous year data available!\n",
      "WARN seq-16> no further previous year data available!\n",
      "WARN seq-17> no further previous year data available!\n",
      "WARN seq-18> no further previous year data available!\n",
      "WARN seq-19> no further previous year data available!\n",
      "WARN seq-20> no further previous year data available!\n",
      "WARN seq-21> no further previous year data available!\n",
      "WARN seq-22> no further previous year data available!\n",
      "WARN seq-23> no further previous year data available!\n",
      "WARN seq-24> no further previous year data available!\n",
      "WARN seq-25> no further previous year data available!\n",
      "WARN seq-26> no further previous year data available!\n",
      "WARN seq-27> no further previous year data available!\n",
      "WARN seq-28> no further previous year data available!\n",
      "WARN seq-29> no further previous year data available!\n",
      "sm-lookback_100-label_7> preparing stock: 'FME.DE' ...\n",
      "sm-lookback_100-label_7> preparing stock: 'FRE.DE' ...\n",
      "WARN seq-0> no previous year data available!\n",
      "sm-lookback_100-label_7> preparing stock: 'HEI.DE' ...\n",
      "sm-lookback_100-label_7> preparing stock: 'HEN3.DE' ...\n",
      "sm-lookback_100-label_7> preparing stock: 'IFX.DE' ...\n",
      "sm-lookback_100-label_7> preparing stock: 'LHA.DE' ...\n",
      "sm-lookback_100-label_7> preparing stock: 'LIN.DE' ...\n",
      "sm-lookback_100-label_7> preparing stock: 'MRK.DE' ...\n",
      "sm-lookback_100-label_7> preparing stock: 'MUV2.DE' ...\n",
      "sm-lookback_100-label_7> preparing stock: 'RWE.DE' ...\n",
      "sm-lookback_100-label_7> preparing stock: 'SAP.DE' ...\n",
      "sm-lookback_100-label_7> preparing stock: 'SIE.DE' ...\n",
      "sm-lookback_100-label_7> preparing stock: 'TKA.DE' ...\n",
      "sm-lookback_100-label_7> preparing stock: 'VNA.DE' ...\n",
      "sm-lookback_100-label_7> preparing stock: 'VOW3.DE' ...\n",
      "sm-lookback_100-label_7> preparing stock: 'WDI.DE' ...\n",
      "config> saved config to '/mnt/c/notebooks/sandbox/config.json'\n",
      "CPU times: user 16min 13s, sys: 14.1 s, total: 16min 27s\n",
      "Wall time: 16min 56s\n"
     ]
    }
   ],
   "source": [
    "%%time \n",
    "# total: 20min - 50min\n",
    "# compact: 20min\n",
    "\n",
    "for submodel_settings in cfg.train.settings:\n",
    "    print(f\"sm-{submodel_settings.id}> preparing submodel data ...\")\n",
    "    model_data = provider.prepare_submodel_data(cfg, submodel_settings, enc_stocks, enc_benchmarks)\n",
    "    # update num_features setting (informational)\n",
    "    submodel_settings.num_features = len(model_data.X[0][0][0][0])\n",
    "config.save_config(cfg)"
   ]
  },
  {
   "cell_type": "code",
   "execution_count": 13,
   "metadata": {},
   "outputs": [
    {
     "name": "stdout",
     "output_type": "stream",
     "text": [
      "prepare> preparation finished, duration: 1019.60 s\n"
     ]
    }
   ],
   "source": [
    "duration = time.time() - start_ts\n",
    "print(f'prepare> preparation finished, duration: {duration:.2f} s')"
   ]
  },
  {
   "cell_type": "code",
   "execution_count": 14,
   "metadata": {},
   "outputs": [
    {
     "name": "stdout",
     "output_type": "stream",
     "text": [
      "train> training started ...\n"
     ]
    }
   ],
   "source": [
    "start_ts = time.time()\n",
    "print(f'train> training started ...')"
   ]
  },
  {
   "cell_type": "code",
   "execution_count": 15,
   "metadata": {},
   "outputs": [
    {
     "data": {
      "text/plain": [
       "[(0, 'lookback_3-label_1'),\n",
       " (1, 'lookback_3-label_2'),\n",
       " (2, 'lookback_5-label_1'),\n",
       " (3, 'lookback_21-label_5'),\n",
       " (4, 'lookback_100-label_7')]"
      ]
     },
     "execution_count": 15,
     "metadata": {},
     "output_type": "execute_result"
    }
   ],
   "source": [
    "[(i, s.id) for i, s in enumerate(cfg.train.settings)]"
   ]
  },
  {
   "cell_type": "code",
   "execution_count": null,
   "metadata": {},
   "outputs": [],
   "source": [
    "%%time\n",
    "\n",
    "model.train_full(cfg, 0)"
   ]
  },
  {
   "cell_type": "code",
   "execution_count": null,
   "metadata": {},
   "outputs": [],
   "source": [
    "duration = time.time() - start_ts\n",
    "print(f'train> training finished, duration: {duration:.2f} s')"
   ]
  },
  {
   "cell_type": "code",
   "execution_count": null,
   "metadata": {},
   "outputs": [],
   "source": [
    "start_ts = time.time()\n",
    "print(f'predict> prediction started ...')"
   ]
  }
 ],
 "metadata": {
  "kernelspec": {
   "display_name": "Python 3",
   "language": "python",
   "name": "python3"
  },
  "language_info": {
   "codemirror_mode": {
    "name": "ipython",
    "version": 3
   },
   "file_extension": ".py",
   "mimetype": "text/x-python",
   "name": "python",
   "nbconvert_exporter": "python",
   "pygments_lexer": "ipython3",
   "version": "3.7.4"
  }
 },
 "nbformat": 4,
 "nbformat_minor": 4
}
