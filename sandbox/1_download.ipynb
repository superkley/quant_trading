{
 "cells": [
  {
   "cell_type": "code",
   "execution_count": 1,
   "metadata": {},
   "outputs": [],
   "source": [
    "# set env via .env file\n",
    "#import os\n",
    "import sys\n",
    "import pathlib \n",
    "import numpy as np\n",
    "import pandas as pd\n",
    "#import tensorflow as tf\n",
    "from importlib import reload\n",
    "#import pandas_datareader.data as web\n",
    "#import requests_cache\n",
    "import datetime\n",
    "import munch\n",
    "\n",
    "import math\n",
    "#from cachetools import TTLCache\n",
    "#import time\n",
    "#import ray\n",
    "#import psutil\n",
    "#from sqlalchemy import create_engine\n",
    "import matplotlib as mpl\n",
    "import matplotlib.pyplot as plt\n",
    "import seaborn as sns\n",
    "#import qgrid\n",
    "import mpl_finance as mf\n",
    "\n",
    "import warnings\n",
    "warnings.filterwarnings(\"ignore\", category=DeprecationWarning)\n",
    "warnings.filterwarnings(\"ignore\", category=FutureWarning)\n",
    "\n",
    "import shared\n",
    "import config\n",
    "import provider_yfinance as provider\n",
    "import plot\n",
    "\n",
    "reload(shared)\n",
    "reload(config)\n",
    "reload(provider)\n",
    "reload(plot)\n",
    "\n",
    "plot.Notebook()\n",
    "\n",
    "mpl.rcParams['figure.figsize'] = (16, 9)\n",
    "mpl.rcParams['axes.grid'] = False\n",
    "mpl.rcParams['axes.unicode_minus']=False\n",
    "pd.set_option('display.max_colwidth', -1)\n",
    "pd.set_option('display.max_columns', None)\n"
   ]
  },
  {
   "cell_type": "code",
   "execution_count": 2,
   "metadata": {},
   "outputs": [
    {
     "name": "stdout",
     "output_type": "stream",
     "text": [
      "config> current directory:/mnt/c/notebooks/sandbox\n",
      "config> data period: from '2018-02-09' to '2020-01-10'\n",
      "config> download period: from '2017-11-24' to '2020-01-10'\n",
      "shared> parsing stocks from web '^GDAXI' ...\n",
      "config> benchmarks: '['000001.SS', 'AUDUSD=X', 'BTCUSD=X', 'CNY=X', 'ETHUSD=X', 'EURCAD=X', 'EURCHF=X', 'EURGBP=X', 'EURHUF=X', 'EURJPY=X', 'EURJPY=X', 'EURSEK=X', 'EURUSD=X', 'GBPJPY=X', 'GBPUSD=X', 'GC=F', 'HKD=X', 'IDR=X', 'IMOEX.ME', 'INR=X', 'JPY=X', 'KW=F', 'LC=F', 'LH=F', 'MXN=X', 'MYR=X', 'NZDUSD=X', 'PA=F', 'PHP=X', 'PL=F', 'RUB=X', 'S=F', 'SGD=X', 'SI=F', 'SM=F', 'THB=X', 'ZAR=X', '^AORD', '^AXJO', '^BFX', '^BSESN', '^BUK100P', '^BVSP', '^DJI', '^FCHI', '^FTSE', '^GDAXI', '^GSPC', '^GSPTSE', '^HSI', '^IPSA', '^IXIC', '^JKSE', '^JN0U.JO', '^KLSE', '^KS11', '^MERV', '^MXX', '^N100', '^N225', '^NYA', '^NZ50', '^RUT', '^STI', '^STOXX50E', '^TA125.TA', '^TWII', '^VIX', '^XAX']'\n",
      "config> stocks: '['1COV.DE', 'ADS.DE', 'ALV.DE', 'BAS.DE', 'BAYN.DE', 'BEI.DE', 'BMW.DE', 'CON.DE', 'DAI.DE', 'DB1.DE', 'DBK.DE', 'DPW.DE', 'DTE.DE', 'EOAN.DE', 'FME.DE', 'FRE.DE', 'HEI.DE', 'HEN3.DE', 'IFX.DE', 'LHA.DE', 'LIN.DE', 'MRK.DE', 'MUV2.DE', 'RWE.DE', 'SAP.DE', 'SIE.DE', 'TKA.DE', 'VNA.DE', 'VOW3.DE', 'WDI.DE']'\n",
      "config> saved config to '/mnt/c/notebooks/sandbox/config.json'\n",
      "config> created from .env\n",
      "config> config\n",
      "        - base:\n",
      "            - config_file_path: /mnt/c/notebooks/sandbox/config.json\n",
      "        - datasets:\n",
      "            - stocks: 30\n",
      "            - benchmarks: 69\n",
      "        - prepare:\n",
      "            - data_start_dt: 2018-02-09\n",
      "            - data_end_dt: 2020-01-10\n",
      "            - cache_dir: /mnt/c/notebooks/sandbox/cache/20200110/\n",
      "        - train:            \n",
      "            - window_trading_days: [3, 5, 21, 35, 50]\n",
      "            - lag_trading_days: [1, 2, 3, 4, 5]\n",
      "            - label_max_high_weight: 3.0\n",
      "            - label_max_close_weight: 1.0\n",
      "            - settings: 12\n",
      "        - model:\n",
      "            - max_samples: 40\n",
      "            - batch_size: 200\n",
      "            - lstm_hidden_size: 256\n",
      "            - early_stopping_patience: 10\n",
      "            - validaion_monitor: val_mean_squared_error\n",
      "            - max_epochs: 1000\n",
      "            - base_dir: /mnt/c/notebooks/sandbox/model/20200110/            \n",
      "        \n",
      "config> saved config to '/mnt/c/notebooks/sandbox/config.json'\n"
     ]
    }
   ],
   "source": [
    "cfg = config.get_config('^GDAXI', True)\n",
    "config.overwrite_end_dt(cfg, '2020-01-07')\n",
    "config.save_config(cfg)"
   ]
  },
  {
   "cell_type": "code",
   "execution_count": 3,
   "metadata": {},
   "outputs": [
    {
     "name": "stdout",
     "output_type": "stream",
     "text": [
      "CPU times: user 172 ms, sys: 15.6 ms, total: 188 ms\n",
      "Wall time: 182 ms\n"
     ]
    }
   ],
   "source": [
    "%%time\n",
    "# total: 17 s\n",
    "\n",
    "cfg_stocks, data_stocks = provider.load_stocks(cfg)"
   ]
  },
  {
   "cell_type": "code",
   "execution_count": 4,
   "metadata": {},
   "outputs": [
    {
     "name": "stdout",
     "output_type": "stream",
     "text": [
      "CPU times: user 328 ms, sys: 125 ms, total: 453 ms\n",
      "Wall time: 429 ms\n"
     ]
    }
   ],
   "source": [
    "%%time\n",
    "\n",
    "# total: 25 s\n",
    "\n",
    "cfg_benchmarks, data_benchmarks = provider.load_benchmarks(cfg)"
   ]
  },
  {
   "cell_type": "code",
   "execution_count": null,
   "metadata": {},
   "outputs": [],
   "source": []
  },
  {
   "cell_type": "code",
   "execution_count": 5,
   "metadata": {},
   "outputs": [
    {
     "data": {
      "text/plain": [
       "Munch({'train_start_dt': datetime.datetime(2019, 8, 16, 0, 0), 'train_end_dt': datetime.datetime(2019, 8, 19, 0, 0), 'predict_start_dt': datetime.datetime(2019, 8, 20, 0, 0), 'predict_end_dt': datetime.datetime(2019, 8, 20, 0, 0)})"
      ]
     },
     "execution_count": 5,
     "metadata": {},
     "output_type": "execute_result"
    }
   ],
   "source": [
    "dates = next(shared.filter_dates_generator(cfg, -1))\n",
    "dates"
   ]
  },
  {
   "cell_type": "code",
   "execution_count": 6,
   "metadata": {},
   "outputs": [
    {
     "data": {
      "text/plain": [
       "<matplotlib.collections.LineCollection at 0x7f1e7e338810>"
      ]
     },
     "execution_count": 6,
     "metadata": {},
     "output_type": "execute_result"
    },
    {
     "data": {
      "image/png": "[encoded data removed]",
      "text/plain": [
       "<Figure size 432x288 with 1 Axes>"
      ]
     },
     "metadata": {
      "needs_background": "light"
     },
     "output_type": "display_data"
    }
   ],
   "source": [
    "s = provider.get_ticker_feature(data_stocks, 'ADS.DE', 'close', dates)\n",
    "s.plot()\n",
    "plt.hlines(s[0], xmin=s.index[0], xmax=s.index[-1], colors='red', linestyles='dashed', alpha=.5)"
   ]
  },
  {
   "cell_type": "code",
   "execution_count": 7,
   "metadata": {},
   "outputs": [
    {
     "data": {
      "text/plain": [
       "<matplotlib.collections.LineCollection at 0x7f1e7e2674d0>"
      ]
     },
     "execution_count": 7,
     "metadata": {},
     "output_type": "execute_result"
    },
    {
     "data": {
      "image/png": "[encoded data removed]",
      "text/plain": [
       "<Figure size 432x288 with 1 Axes>"
      ]
     },
     "metadata": {
      "needs_background": "light"
     },
     "output_type": "display_data"
    }
   ],
   "source": [
    "s = provider.get_ticker_feature(data_stocks, 'ADS.DE', 'close', dates, provider.tf_ma(cfg.train.window_trading_days[-1]))\n",
    "s.plot()\n",
    "plt.hlines(s[0], xmin=s.index[0], xmax=s.index[-1], colors='red', linestyles='dashed', alpha=.5)"
   ]
  },
  {
   "cell_type": "code",
   "execution_count": 8,
   "metadata": {},
   "outputs": [
    {
     "data": {
      "text/plain": [
       "<matplotlib.collections.LineCollection at 0x7f1e7dbcb090>"
      ]
     },
     "execution_count": 8,
     "metadata": {},
     "output_type": "execute_result"
    },
    {
     "data": {
      "image/png": "[encoded data removed]",
      "text/plain": [
       "<Figure size 432x288 with 1 Axes>"
      ]
     },
     "metadata": {
      "needs_background": "light"
     },
     "output_type": "display_data"
    }
   ],
   "source": [
    "s = provider.get_ticker_feature(data_stocks, 'ADS.DE', 'close', dates, provider.tf_rel) - 1\n",
    "s.plot()\n",
    "s = provider.get_ticker_feature(data_stocks, 'ADS.DE', 'close', dates, provider.tf_loglag(cfg.train.lag_trading_days[0]))\n",
    "s.plot()\n",
    "s = provider.get_ticker_feature(data_stocks, 'ADS.DE', 'close', dates, provider.tf_loglag(cfg.train.lag_trading_days[1]))\n",
    "s.plot()\n",
    "plt.hlines(s[0], xmin=s.index[0], xmax=s.index[-1], colors='red', linestyles='dashed', alpha=.5)"
   ]
  },
  {
   "cell_type": "code",
   "execution_count": 9,
   "metadata": {},
   "outputs": [
    {
     "data": {
      "text/plain": [
       "['balancesheet',\n",
       " 'calendar',\n",
       " 'calls',\n",
       " 'cashflow',\n",
       " 'earnings',\n",
       " 'financials',\n",
       " 'history',\n",
       " 'info',\n",
       " 'puts',\n",
       " 'recommendations',\n",
       " 'sustainability']"
      ]
     },
     "execution_count": 9,
     "metadata": {},
     "output_type": "execute_result"
    }
   ],
   "source": [
    "features = set()\n",
    "for k in cfg_stocks.data.keys():\n",
    "    features |= set(cfg_stocks.data[k].keys())\n",
    "for k in cfg_benchmarks.data.keys():\n",
    "    features |= set(cfg_benchmarks.data[k].keys())\n",
    "features = sorted(list(features))\n",
    "features"
   ]
  },
  {
   "cell_type": "code",
   "execution_count": 10,
   "metadata": {},
   "outputs": [],
   "source": [
    "stats_stocks = pd.DataFrame.from_dict(cfg_stocks.data, orient='index', columns=features)\n",
    "stats_stocks['type'] = 'stock'\n",
    "stats_benchmarks = pd.DataFrame.from_dict(cfg_benchmarks.data, orient='index', columns=features)\n",
    "stats_benchmarks['type'] = 'benchmark'\n",
    "df_stats = pd.concat([stats_stocks, stats_benchmarks])\n",
    "df_stats.to_csv(f'{cfg.prepare.cache_dir}/metrics.csv')"
   ]
  },
  {
   "cell_type": "code",
   "execution_count": 11,
   "metadata": {},
   "outputs": [
    {
     "data": {
      "text/html": [
       "<div>\n",
       "<style scoped>\n",
       "    .dataframe tbody tr th:only-of-type {\n",
       "        vertical-align: middle;\n",
       "    }\n",
       "\n",
       "    .dataframe tbody tr th {\n",
       "        vertical-align: top;\n",
       "    }\n",
       "\n",
       "    .dataframe thead th {\n",
       "        text-align: right;\n",
       "    }\n",
       "</style>\n",
       "<table border=\"1\" class=\"dataframe\">\n",
       "  <thead>\n",
       "    <tr style=\"text-align: right;\">\n",
       "      <th></th>\n",
       "      <th>balancesheet</th>\n",
       "      <th>calendar</th>\n",
       "      <th>calls</th>\n",
       "      <th>cashflow</th>\n",
       "      <th>earnings</th>\n",
       "      <th>financials</th>\n",
       "      <th>history</th>\n",
       "      <th>info</th>\n",
       "      <th>puts</th>\n",
       "      <th>recommendations</th>\n",
       "      <th>sustainability</th>\n",
       "      <th>type</th>\n",
       "    </tr>\n",
       "  </thead>\n",
       "  <tbody>\n",
       "    <tr>\n",
       "      <td>1COV.DE</td>\n",
       "      <td>(4, 28)</td>\n",
       "      <td>(1, 6)</td>\n",
       "      <td>NaN</td>\n",
       "      <td>(4, 20)</td>\n",
       "      <td>(4, 2)</td>\n",
       "      <td>(4, 22)</td>\n",
       "      <td>(1079, 7)</td>\n",
       "      <td>117</td>\n",
       "      <td>NaN</td>\n",
       "      <td>NaN</td>\n",
       "      <td>(1, 28)</td>\n",
       "      <td>stock</td>\n",
       "    </tr>\n",
       "    <tr>\n",
       "      <td>ADS.DE</td>\n",
       "      <td>(4, 27)</td>\n",
       "      <td>(1, 6)</td>\n",
       "      <td>NaN</td>\n",
       "      <td>(4, 19)</td>\n",
       "      <td>(4, 2)</td>\n",
       "      <td>(4, 22)</td>\n",
       "      <td>(5506, 7)</td>\n",
       "      <td>118</td>\n",
       "      <td>NaN</td>\n",
       "      <td>(2, 4)</td>\n",
       "      <td>(1, 28)</td>\n",
       "      <td>stock</td>\n",
       "    </tr>\n",
       "    <tr>\n",
       "      <td>ALV.DE</td>\n",
       "      <td>(4, 27)</td>\n",
       "      <td>(1, 6)</td>\n",
       "      <td>NaN</td>\n",
       "      <td>(4, 2)</td>\n",
       "      <td>(4, 2)</td>\n",
       "      <td>(4, 22)</td>\n",
       "      <td>(5867, 7)</td>\n",
       "      <td>117</td>\n",
       "      <td>NaN</td>\n",
       "      <td>NaN</td>\n",
       "      <td>(1, 28)</td>\n",
       "      <td>stock</td>\n",
       "    </tr>\n",
       "    <tr>\n",
       "      <td>BAS.DE</td>\n",
       "      <td>(4, 27)</td>\n",
       "      <td>(1, 6)</td>\n",
       "      <td>NaN</td>\n",
       "      <td>(4, 20)</td>\n",
       "      <td>(0, 6)</td>\n",
       "      <td>(4, 22)</td>\n",
       "      <td>(5875, 7)</td>\n",
       "      <td>117</td>\n",
       "      <td>NaN</td>\n",
       "      <td>NaN</td>\n",
       "      <td>(1, 28)</td>\n",
       "      <td>stock</td>\n",
       "    </tr>\n",
       "    <tr>\n",
       "      <td>BAYN.DE</td>\n",
       "      <td>(4, 28)</td>\n",
       "      <td>(1, 6)</td>\n",
       "      <td>NaN</td>\n",
       "      <td>(4, 18)</td>\n",
       "      <td>(4, 2)</td>\n",
       "      <td>(4, 22)</td>\n",
       "      <td>(5877, 7)</td>\n",
       "      <td>116</td>\n",
       "      <td>NaN</td>\n",
       "      <td>NaN</td>\n",
       "      <td>(1, 28)</td>\n",
       "      <td>stock</td>\n",
       "    </tr>\n",
       "    <tr>\n",
       "      <td>...</td>\n",
       "      <td>...</td>\n",
       "      <td>...</td>\n",
       "      <td>...</td>\n",
       "      <td>...</td>\n",
       "      <td>...</td>\n",
       "      <td>...</td>\n",
       "      <td>...</td>\n",
       "      <td>...</td>\n",
       "      <td>...</td>\n",
       "      <td>...</td>\n",
       "      <td>...</td>\n",
       "      <td>...</td>\n",
       "    </tr>\n",
       "    <tr>\n",
       "      <td>^STOXX50E</td>\n",
       "      <td>(6, 0)</td>\n",
       "      <td>NaN</td>\n",
       "      <td>NaN</td>\n",
       "      <td>(6, 0)</td>\n",
       "      <td>(0, 6)</td>\n",
       "      <td>(6, 0)</td>\n",
       "      <td>(8440, 7)</td>\n",
       "      <td>61</td>\n",
       "      <td>NaN</td>\n",
       "      <td>NaN</td>\n",
       "      <td>NaN</td>\n",
       "      <td>benchmark</td>\n",
       "    </tr>\n",
       "    <tr>\n",
       "      <td>^TA125.TA</td>\n",
       "      <td>(6, 0)</td>\n",
       "      <td>NaN</td>\n",
       "      <td>NaN</td>\n",
       "      <td>(6, 0)</td>\n",
       "      <td>(0, 6)</td>\n",
       "      <td>(6, 0)</td>\n",
       "      <td>(5546, 7)</td>\n",
       "      <td>61</td>\n",
       "      <td>NaN</td>\n",
       "      <td>NaN</td>\n",
       "      <td>NaN</td>\n",
       "      <td>benchmark</td>\n",
       "    </tr>\n",
       "    <tr>\n",
       "      <td>^TWII</td>\n",
       "      <td>(6, 0)</td>\n",
       "      <td>NaN</td>\n",
       "      <td>NaN</td>\n",
       "      <td>(6, 0)</td>\n",
       "      <td>(0, 6)</td>\n",
       "      <td>(6, 0)</td>\n",
       "      <td>(5537, 7)</td>\n",
       "      <td>61</td>\n",
       "      <td>NaN</td>\n",
       "      <td>NaN</td>\n",
       "      <td>NaN</td>\n",
       "      <td>benchmark</td>\n",
       "    </tr>\n",
       "    <tr>\n",
       "      <td>^VIX</td>\n",
       "      <td>(6, 0)</td>\n",
       "      <td>NaN</td>\n",
       "      <td>(25, 13)</td>\n",
       "      <td>(6, 0)</td>\n",
       "      <td>(0, 6)</td>\n",
       "      <td>(6, 0)</td>\n",
       "      <td>(7564, 7)</td>\n",
       "      <td>61</td>\n",
       "      <td>(18, 13)</td>\n",
       "      <td>NaN</td>\n",
       "      <td>NaN</td>\n",
       "      <td>benchmark</td>\n",
       "    </tr>\n",
       "    <tr>\n",
       "      <td>^XAX</td>\n",
       "      <td>(6, 0)</td>\n",
       "      <td>NaN</td>\n",
       "      <td>NaN</td>\n",
       "      <td>(6, 0)</td>\n",
       "      <td>(0, 6)</td>\n",
       "      <td>(6, 0)</td>\n",
       "      <td>(6049, 7)</td>\n",
       "      <td>61</td>\n",
       "      <td>NaN</td>\n",
       "      <td>NaN</td>\n",
       "      <td>NaN</td>\n",
       "      <td>benchmark</td>\n",
       "    </tr>\n",
       "  </tbody>\n",
       "</table>\n",
       "<p>98 rows × 12 columns</p>\n",
       "</div>"
      ],
      "text/plain": [
       "          balancesheet calendar     calls cashflow earnings financials  \\\n",
       "1COV.DE    (4, 28)      (1, 6)   NaN       (4, 20)  (4, 2)   (4, 22)     \n",
       "ADS.DE     (4, 27)      (1, 6)   NaN       (4, 19)  (4, 2)   (4, 22)     \n",
       "ALV.DE     (4, 27)      (1, 6)   NaN       (4, 2)   (4, 2)   (4, 22)     \n",
       "BAS.DE     (4, 27)      (1, 6)   NaN       (4, 20)  (0, 6)   (4, 22)     \n",
       "BAYN.DE    (4, 28)      (1, 6)   NaN       (4, 18)  (4, 2)   (4, 22)     \n",
       "...            ...         ...   ...           ...     ...       ...     \n",
       "^STOXX50E  (6, 0)       NaN      NaN       (6, 0)   (0, 6)   (6, 0)      \n",
       "^TA125.TA  (6, 0)       NaN      NaN       (6, 0)   (0, 6)   (6, 0)      \n",
       "^TWII      (6, 0)       NaN      NaN       (6, 0)   (0, 6)   (6, 0)      \n",
       "^VIX       (6, 0)       NaN      (25, 13)  (6, 0)   (0, 6)   (6, 0)      \n",
       "^XAX       (6, 0)       NaN      NaN       (6, 0)   (0, 6)   (6, 0)      \n",
       "\n",
       "             history  info      puts recommendations sustainability       type  \n",
       "1COV.DE    (1079, 7)  117   NaN       NaN             (1, 28)        stock      \n",
       "ADS.DE     (5506, 7)  118   NaN       (2, 4)          (1, 28)        stock      \n",
       "ALV.DE     (5867, 7)  117   NaN       NaN             (1, 28)        stock      \n",
       "BAS.DE     (5875, 7)  117   NaN       NaN             (1, 28)        stock      \n",
       "BAYN.DE    (5877, 7)  116   NaN       NaN             (1, 28)        stock      \n",
       "...              ...  ...   ...       ...                 ...          ...      \n",
       "^STOXX50E  (8440, 7)  61    NaN       NaN             NaN            benchmark  \n",
       "^TA125.TA  (5546, 7)  61    NaN       NaN             NaN            benchmark  \n",
       "^TWII      (5537, 7)  61    NaN       NaN             NaN            benchmark  \n",
       "^VIX       (7564, 7)  61    (18, 13)  NaN             NaN            benchmark  \n",
       "^XAX       (6049, 7)  61    NaN       NaN             NaN            benchmark  \n",
       "\n",
       "[98 rows x 12 columns]"
      ]
     },
     "execution_count": 11,
     "metadata": {},
     "output_type": "execute_result"
    }
   ],
   "source": [
    "df_stats"
   ]
  },
  {
   "cell_type": "code",
   "execution_count": null,
   "metadata": {},
   "outputs": [],
   "source": []
  },
  {
   "cell_type": "code",
   "execution_count": null,
   "metadata": {},
   "outputs": [],
   "source": []
  },
  {
   "cell_type": "code",
   "execution_count": null,
   "metadata": {},
   "outputs": [],
   "source": []
  },
  {
   "cell_type": "code",
   "execution_count": null,
   "metadata": {},
   "outputs": [],
   "source": []
  },
  {
   "cell_type": "code",
   "execution_count": null,
   "metadata": {},
   "outputs": [],
   "source": []
  },
  {
   "cell_type": "code",
   "execution_count": null,
   "metadata": {},
   "outputs": [],
   "source": []
  }
 ],
 "metadata": {
  "kernelspec": {
   "display_name": "Python 3",
   "language": "python",
   "name": "python3"
  },
  "language_info": {
   "codemirror_mode": {
    "name": "ipython",
    "version": 3
   },
   "file_extension": ".py",
   "mimetype": "text/x-python",
   "name": "python",
   "nbconvert_exporter": "python",
   "pygments_lexer": "ipython3",
   "version": "3.7.4"
  }
 },
 "nbformat": 4,
 "nbformat_minor": 4
}
