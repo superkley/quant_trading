{
 "cells": [
  {
   "cell_type": "code",
   "execution_count": 1,
   "metadata": {},
   "outputs": [],
   "source": [
    "# set env via .env file\n",
    "#import os\n",
    "import sys\n",
    "import pandas as pd\n",
    "from importlib import reload\n",
    "import datetime\n",
    "import munch\n",
    "\n",
    "import matplotlib as mpl\n",
    "import matplotlib.pyplot as plt\n",
    "\n",
    "import warnings\n",
    "warnings.filterwarnings(\"ignore\", category=DeprecationWarning)\n",
    "warnings.filterwarnings(\"ignore\", category=FutureWarning)\n",
    "\n",
    "import shared\n",
    "import config\n",
    "import provider_yfinance as provider\n",
    "import plot\n",
    "\n",
    "reload(shared)\n",
    "reload(config)\n",
    "reload(provider)\n",
    "reload(plot)\n",
    "\n",
    "plot.Notebook()\n",
    "\n",
    "mpl.rcParams['figure.figsize'] = (16, 9)\n",
    "mpl.rcParams['axes.grid'] = False\n",
    "mpl.rcParams['axes.unicode_minus']=False\n",
    "pd.set_option('display.max_colwidth', -1)\n",
    "pd.set_option('display.max_columns', None)\n"
   ]
  },
  {
   "cell_type": "code",
   "execution_count": 2,
   "metadata": {},
   "outputs": [
    {
     "name": "stdout",
     "output_type": "stream",
     "text": [
      "TF version: 2.1.0\n",
      "Keras version: 2.2.4-tf\n",
      "Executing op RandomUniform in device /job:localhost/replica:0/task:0/device:CPU:0\n",
      "Executing op Sub in device /job:localhost/replica:0/task:0/device:CPU:0\n",
      "Executing op Mul in device /job:localhost/replica:0/task:0/device:CPU:0\n",
      "Executing op Add in device /job:localhost/replica:0/task:0/device:CPU:0\n",
      "WARNING:tensorflow:From /mnt/c/notebooks/sandbox/config.py:24: is_gpu_available (from tensorflow.python.framework.test_util) is deprecated and will be removed in a future version.\n",
      "Instructions for updating:\n",
      "Use `tf.config.list_physical_devices('GPU')` instead.\n",
      "Is there a GPU available: False\n",
      "Is the Tensor on GPU #0: False\n",
      "Device name: /job:localhost/replica:0/task:0/device:CPU:0\n",
      "Eager Execution enabled: True\n"
     ]
    }
   ],
   "source": [
    "config.print_env()"
   ]
  },
  {
   "cell_type": "code",
   "execution_count": 3,
   "metadata": {},
   "outputs": [
    {
     "name": "stdout",
     "output_type": "stream",
     "text": [
      "config> current directory:/mnt/c/notebooks/sandbox\n",
      "config> data period: from '2018-02-16' to '2020-01-17'\n",
      "config> download period: from '2017-12-01' to '2020-01-17'\n",
      "shared> parsing stocks from web '^GDAXI' ...\n",
      "config> benchmarks: '['000001.SS', 'AUDUSD=X', 'BTCUSD=X', 'CNY=X', 'ETHUSD=X', 'EURCAD=X', 'EURCHF=X', 'EURGBP=X', 'EURHUF=X', 'EURJPY=X', 'EURJPY=X', 'EURSEK=X', 'EURUSD=X', 'GBPJPY=X', 'GBPUSD=X', 'GC=F', 'HKD=X', 'IDR=X', 'IMOEX.ME', 'INR=X', 'JPY=X', 'KW=F', 'LC=F', 'LH=F', 'MXN=X', 'MYR=X', 'NZDUSD=X', 'PA=F', 'PHP=X', 'PL=F', 'RUB=X', 'S=F', 'SGD=X', 'SI=F', 'SM=F', 'THB=X', 'ZAR=X', '^AORD', '^AXJO', '^BFX', '^BSESN', '^BUK100P', '^BVSP', '^DJI', '^FCHI', '^FTSE', '^GDAXI', '^GSPC', '^GSPTSE', '^HSI', '^IPSA', '^IXIC', '^JKSE', '^JN0U.JO', '^KLSE', '^KS11', '^MERV', '^MXX', '^N100', '^N225', '^NYA', '^NZ50', '^RUT', '^STI', '^STOXX50E', '^TA125.TA', '^TWII', '^VIX', '^XAX']'\n",
      "config> stocks: '['1COV.DE', 'ADS.DE', 'ALV.DE', 'BAS.DE', 'BAYN.DE', 'BEI.DE', 'BMW.DE', 'CON.DE', 'DAI.DE', 'DB1.DE', 'DBK.DE', 'DPW.DE', 'DTE.DE', 'EOAN.DE', 'FME.DE', 'FRE.DE', 'HEI.DE', 'HEN3.DE', 'IFX.DE', 'LHA.DE', 'LIN.DE', 'MRK.DE', 'MUV2.DE', 'RWE.DE', 'SAP.DE', 'SIE.DE', 'TKA.DE', 'VNA.DE', 'VOW3.DE', 'WDI.DE']'\n",
      "config> saved config to '/mnt/c/notebooks/sandbox/config.json'\n",
      "config> created from .env\n",
      "config> config\n",
      "        - base:\n",
      "            - config_file_path: /mnt/c/notebooks/sandbox/config.json\n",
      "        - datasets:\n",
      "            - stocks: 30\n",
      "            - benchmarks: 69\n",
      "        - prepare:\n",
      "            - data_start_dt: 2018-02-16\n",
      "            - data_end_dt: 2020-01-17\n",
      "            - cache_dir: /mnt/c/notebooks/sandbox/cache/20200117/\n",
      "        - train:            \n",
      "            - window_trading_days: [3, 5, 21, 35, 50]\n",
      "            - lag_trading_days: [1, 2, 3, 4, 5]\n",
      "            - label_max_high_weight: 3.0\n",
      "            - label_max_close_weight: 1.0\n",
      "            - settings: 12\n",
      "        - model:\n",
      "            - max_samples: 40\n",
      "            - batch_size: 32\n",
      "            - learning_rate: 0.1\n",
      "            - learning_rate_decay: 0.75\n",
      "            - lstm_hidden_size: 256\n",
      "            - early_stopping_patience: 10\n",
      "            - validation_monitor: val_mean_squared_error\n",
      "            - max_epochs: 1000\n",
      "            - base_dir: /mnt/c/notebooks/sandbox/model/20200117/            \n",
      "        \n",
      "config> saved config to '/mnt/c/notebooks/sandbox/config.json'\n"
     ]
    }
   ],
   "source": [
    "cfg = config.get_config('^GDAXI', True)\n",
    "config.overwrite_end_dt(cfg, '2020-01-16')\n",
    "config.save_config(cfg)"
   ]
  },
  {
   "cell_type": "code",
   "execution_count": 4,
   "metadata": {},
   "outputs": [
    {
     "name": "stdout",
     "output_type": "stream",
     "text": [
      "CPU times: user 125 ms, sys: 46.9 ms, total: 172 ms\n",
      "Wall time: 168 ms\n"
     ]
    }
   ],
   "source": [
    "%%time\n",
    "# total: 17 s\n",
    "\n",
    "cfg_stocks, data_stocks = provider.load_stocks(cfg, compact=True)"
   ]
  },
  {
   "cell_type": "code",
   "execution_count": 5,
   "metadata": {},
   "outputs": [
    {
     "name": "stdout",
     "output_type": "stream",
     "text": [
      "shared> failed to load pickle file: '/mnt/c/notebooks/sandbox/cache/20200116/benchmarks_1d.pkl'\n",
      "shared> failed to load pickle file: '/mnt/c/notebooks/sandbox/cache/20200116/benchmarks_1d_meta.pkl'\n",
      "tickers-benchmarks> downloading histories ...\n",
      "[*********************100%***********************]  68 of 68 completed\n",
      "WARN: tickers-benchmarks> #missing: 166640\n",
      "ticker-000001.SS> loading ticker data ...\n",
      "ticker-AUDUSD=X> loading ticker data ...\n",
      "ticker-BTCUSD=X> loading ticker data ...\n",
      "ticker-CNY=X> loading ticker data ...\n",
      "ticker-ETHUSD=X> loading ticker data ...\n",
      "ticker-EURCAD=X> loading ticker data ...\n",
      "ticker-EURCHF=X> loading ticker data ...\n",
      "ticker-EURGBP=X> loading ticker data ...\n",
      "ticker-EURHUF=X> loading ticker data ...\n",
      "ticker-EURJPY=X> loading ticker data ...\n",
      "ticker-EURJPY=X> loading ticker data ...\n",
      "ticker-EURSEK=X> loading ticker data ...\n",
      "ticker-EURUSD=X> loading ticker data ...\n",
      "ticker-GBPJPY=X> loading ticker data ...\n",
      "ticker-GBPUSD=X> loading ticker data ...\n",
      "ticker-GC=F> loading ticker data ...\n",
      "ticker-HKD=X> loading ticker data ...\n",
      "ticker-IDR=X> loading ticker data ...\n",
      "ticker-IMOEX.ME> loading ticker data ...\n",
      "ticker-INR=X> loading ticker data ...\n",
      "ticker-JPY=X> loading ticker data ...\n",
      "ticker-KW=F> loading ticker data ...\n",
      "ticker-LC=F> loading ticker data ...\n",
      "ticker-LH=F> loading ticker data ...\n",
      "ticker-MXN=X> loading ticker data ...\n",
      "ticker-MYR=X> loading ticker data ...\n",
      "ticker-NZDUSD=X> loading ticker data ...\n",
      "ticker-PA=F> loading ticker data ...\n",
      "ticker-PHP=X> loading ticker data ...\n",
      "ticker-PL=F> loading ticker data ...\n",
      "ticker-RUB=X> loading ticker data ...\n",
      "ticker-S=F> loading ticker data ...\n",
      "ticker-SGD=X> loading ticker data ...\n",
      "ticker-SI=F> loading ticker data ...\n",
      "ticker-SM=F> loading ticker data ...\n",
      "ticker-THB=X> loading ticker data ...\n",
      "ticker-ZAR=X> loading ticker data ...\n",
      "ticker-^AORD> loading ticker data ...\n",
      "ticker-^AXJO> loading ticker data ...\n",
      "ticker-^BFX> loading ticker data ...\n",
      "ticker-^BSESN> loading ticker data ...\n",
      "ticker-^BUK100P> loading ticker data ...\n",
      "ticker-^BVSP> loading ticker data ...\n",
      "ticker-^DJI> loading ticker data ...\n",
      "ticker-^FCHI> loading ticker data ...\n",
      "ticker-^FTSE> loading ticker data ...\n",
      "ticker-^GDAXI> loading ticker data ...\n",
      "ticker-^GSPC> loading ticker data ...\n",
      "ticker-^GSPTSE> loading ticker data ...\n",
      "ticker-^HSI> loading ticker data ...\n",
      "ticker-^IPSA> loading ticker data ...\n",
      "ticker-^IXIC> loading ticker data ...\n",
      "ticker-^JKSE> loading ticker data ...\n",
      "ERROR: yf> failed to download ticker data\n",
      "WARN: ticker-^JKSE> retrying loading ticker data ... (#1 of 10)\n",
      "yf-cashflowStatementHistory> internal error: Not Found\n",
      "yf-cashflowStatementHistoryQuarterly> internal error: Not Found\n",
      "yf-balanceSheetHistory> internal error: Not Found\n",
      "yf-balanceSheetHistoryQuarterly> internal error: Not Found\n",
      "yf-incomeStatementHistory> internal error: Not Found\n",
      "yf-incomeStatementHistoryQuarterly> internal error: Not Found\n",
      "yf-earnings> internal error: Not Found\n",
      "ticker-^JN0U.JO> loading ticker data ...\n",
      "ticker-^KLSE> loading ticker data ...\n",
      "ticker-^KS11> loading ticker data ...\n",
      "ticker-^MERV> loading ticker data ...\n",
      "ticker-^MXX> loading ticker data ...\n",
      "ticker-^N100> loading ticker data ...\n",
      "ticker-^N225> loading ticker data ...\n",
      "ticker-^NYA> loading ticker data ...\n",
      "ticker-^NZ50> loading ticker data ...\n",
      "ticker-^RUT> loading ticker data ...\n",
      "ticker-^STI> loading ticker data ...\n",
      "ticker-^STOXX50E> loading ticker data ...\n",
      "ticker-^TA125.TA> loading ticker data ...\n",
      "ticker-^TWII> loading ticker data ...\n",
      "ticker-^VIX> loading ticker data ...\n",
      "ticker-^XAX> loading ticker data ...\n",
      "CPU times: user 21.6 s, sys: 5.02 s, total: 26.7 s\n",
      "Wall time: 42min 5s\n"
     ]
    }
   ],
   "source": [
    "%%time\n",
    "# total (download): 1h\n",
    "# total (cached): 25 s\n",
    "\n",
    "cfg_benchmarks, data_benchmarks = provider.load_benchmarks(cfg)"
   ]
  },
  {
   "cell_type": "code",
   "execution_count": null,
   "metadata": {},
   "outputs": [],
   "source": []
  },
  {
   "cell_type": "code",
   "execution_count": 6,
   "metadata": {},
   "outputs": [
    {
     "data": {
      "text/plain": [
       "Munch({'train_start_dt': datetime.datetime(2019, 8, 23, 0, 0), 'train_end_dt': datetime.datetime(2019, 8, 26, 0, 0), 'predict_start_dt': datetime.datetime(2019, 8, 27, 0, 0), 'predict_end_dt': datetime.datetime(2019, 8, 27, 0, 0)})"
      ]
     },
     "execution_count": 6,
     "metadata": {},
     "output_type": "execute_result"
    }
   ],
   "source": [
    "dates = next(shared.filter_dates_generator(cfg, -1))\n",
    "dates"
   ]
  },
  {
   "cell_type": "code",
   "execution_count": 7,
   "metadata": {},
   "outputs": [
    {
     "data": {
      "text/plain": [
       "<matplotlib.collections.LineCollection at 0x7fe87c5c4390>"
      ]
     },
     "execution_count": 7,
     "metadata": {},
     "output_type": "execute_result"
    },
    {
     "data": {
      "image/png": "[encoded data removed]",
      "text/plain": [
       "<Figure size 432x288 with 1 Axes>"
      ]
     },
     "metadata": {
      "needs_background": "light"
     },
     "output_type": "display_data"
    }
   ],
   "source": [
    "s = provider.get_ticker_feature(data_stocks, 'ADS.DE', 'close', dates)\n",
    "s.plot()\n",
    "plt.hlines(s[0], xmin=s.index[0], xmax=s.index[-1], colors='red', linestyles='dashed', alpha=.5)"
   ]
  },
  {
   "cell_type": "code",
   "execution_count": 8,
   "metadata": {},
   "outputs": [
    {
     "data": {
      "text/plain": [
       "<matplotlib.collections.LineCollection at 0x7fe877b73150>"
      ]
     },
     "execution_count": 8,
     "metadata": {},
     "output_type": "execute_result"
    },
    {
     "data": {
      "image/png": "[encoded data removed]",
      "text/plain": [
       "<Figure size 432x288 with 1 Axes>"
      ]
     },
     "metadata": {
      "needs_background": "light"
     },
     "output_type": "display_data"
    }
   ],
   "source": [
    "s = provider.get_ticker_feature(data_stocks, 'ADS.DE', 'close', dates, provider.tf_ma(cfg.train.window_trading_days[-1]))\n",
    "s.plot()\n",
    "plt.hlines(s[0], xmin=s.index[0], xmax=s.index[-1], colors='red', linestyles='dashed', alpha=.5)"
   ]
  },
  {
   "cell_type": "code",
   "execution_count": 9,
   "metadata": {},
   "outputs": [
    {
     "data": {
      "text/plain": [
       "<matplotlib.collections.LineCollection at 0x7fe877805f90>"
      ]
     },
     "execution_count": 9,
     "metadata": {},
     "output_type": "execute_result"
    },
    {
     "data": {
      "image/png": "[encoded data removed]",
      "text/plain": [
       "<Figure size 432x288 with 1 Axes>"
      ]
     },
     "metadata": {
      "needs_background": "light"
     },
     "output_type": "display_data"
    }
   ],
   "source": [
    "s = provider.get_ticker_feature(data_stocks, 'ADS.DE', 'close', dates, provider.tf_rel) - 1\n",
    "s.plot()\n",
    "s = provider.get_ticker_feature(data_stocks, 'ADS.DE', 'close', dates, provider.tf_loglag(cfg.train.lag_trading_days[0]))\n",
    "s.plot()\n",
    "s = provider.get_ticker_feature(data_stocks, 'ADS.DE', 'close', dates, provider.tf_loglag(cfg.train.lag_trading_days[1]))\n",
    "s.plot()\n",
    "plt.hlines(s[0], xmin=s.index[0], xmax=s.index[-1], colors='red', linestyles='dashed', alpha=.5)"
   ]
  },
  {
   "cell_type": "code",
   "execution_count": 10,
   "metadata": {},
   "outputs": [
    {
     "data": {
      "text/plain": [
       "['balancesheet',\n",
       " 'calendar',\n",
       " 'calls',\n",
       " 'cashflow',\n",
       " 'earnings',\n",
       " 'financials',\n",
       " 'history',\n",
       " 'info',\n",
       " 'puts',\n",
       " 'recommendations',\n",
       " 'sustainability']"
      ]
     },
     "execution_count": 10,
     "metadata": {},
     "output_type": "execute_result"
    }
   ],
   "source": [
    "features = set()\n",
    "for k in cfg_stocks.data.keys():\n",
    "    features |= set(cfg_stocks.data[k].keys())\n",
    "for k in cfg_benchmarks.data.keys():\n",
    "    features |= set(cfg_benchmarks.data[k].keys())\n",
    "features = sorted(list(features))\n",
    "features"
   ]
  },
  {
   "cell_type": "code",
   "execution_count": 11,
   "metadata": {},
   "outputs": [],
   "source": [
    "stats_stocks = pd.DataFrame.from_dict(cfg_stocks.data, orient='index', columns=features)\n",
    "stats_stocks['type'] = 'stock'\n",
    "stats_benchmarks = pd.DataFrame.from_dict(cfg_benchmarks.data, orient='index', columns=features)\n",
    "stats_benchmarks['type'] = 'benchmark'\n",
    "df_stats = pd.concat([stats_stocks, stats_benchmarks])\n",
    "df_stats.to_csv(f'{cfg.prepare.cache_dir}/metrics.csv')"
   ]
  },
  {
   "cell_type": "code",
   "execution_count": 12,
   "metadata": {},
   "outputs": [
    {
     "data": {
      "text/html": [
       "<div>\n",
       "<style scoped>\n",
       "    .dataframe tbody tr th:only-of-type {\n",
       "        vertical-align: middle;\n",
       "    }\n",
       "\n",
       "    .dataframe tbody tr th {\n",
       "        vertical-align: top;\n",
       "    }\n",
       "\n",
       "    .dataframe thead th {\n",
       "        text-align: right;\n",
       "    }\n",
       "</style>\n",
       "<table border=\"1\" class=\"dataframe\">\n",
       "  <thead>\n",
       "    <tr style=\"text-align: right;\">\n",
       "      <th></th>\n",
       "      <th>balancesheet</th>\n",
       "      <th>calendar</th>\n",
       "      <th>calls</th>\n",
       "      <th>cashflow</th>\n",
       "      <th>earnings</th>\n",
       "      <th>financials</th>\n",
       "      <th>history</th>\n",
       "      <th>info</th>\n",
       "      <th>puts</th>\n",
       "      <th>recommendations</th>\n",
       "      <th>sustainability</th>\n",
       "      <th>type</th>\n",
       "    </tr>\n",
       "  </thead>\n",
       "  <tbody>\n",
       "    <tr>\n",
       "      <td>1COV.DE</td>\n",
       "      <td>(4, 28)</td>\n",
       "      <td>(1, 6)</td>\n",
       "      <td>NaN</td>\n",
       "      <td>(4, 20)</td>\n",
       "      <td>(4, 2)</td>\n",
       "      <td>(4, 22)</td>\n",
       "      <td>(1085, 7)</td>\n",
       "      <td>117</td>\n",
       "      <td>NaN</td>\n",
       "      <td>NaN</td>\n",
       "      <td>(1, 28)</td>\n",
       "      <td>stock</td>\n",
       "    </tr>\n",
       "    <tr>\n",
       "      <td>ADS.DE</td>\n",
       "      <td>(4, 27)</td>\n",
       "      <td>(1, 6)</td>\n",
       "      <td>NaN</td>\n",
       "      <td>(4, 19)</td>\n",
       "      <td>(4, 2)</td>\n",
       "      <td>(4, 22)</td>\n",
       "      <td>(5512, 7)</td>\n",
       "      <td>118</td>\n",
       "      <td>NaN</td>\n",
       "      <td>(2, 4)</td>\n",
       "      <td>(1, 28)</td>\n",
       "      <td>stock</td>\n",
       "    </tr>\n",
       "    <tr>\n",
       "      <td>ALV.DE</td>\n",
       "      <td>(4, 27)</td>\n",
       "      <td>(1, 6)</td>\n",
       "      <td>NaN</td>\n",
       "      <td>(4, 2)</td>\n",
       "      <td>(4, 2)</td>\n",
       "      <td>(4, 22)</td>\n",
       "      <td>(5873, 7)</td>\n",
       "      <td>117</td>\n",
       "      <td>NaN</td>\n",
       "      <td>NaN</td>\n",
       "      <td>(1, 28)</td>\n",
       "      <td>stock</td>\n",
       "    </tr>\n",
       "    <tr>\n",
       "      <td>BAS.DE</td>\n",
       "      <td>(4, 27)</td>\n",
       "      <td>(1, 6)</td>\n",
       "      <td>NaN</td>\n",
       "      <td>(4, 20)</td>\n",
       "      <td>(0, 6)</td>\n",
       "      <td>(4, 22)</td>\n",
       "      <td>(5880, 7)</td>\n",
       "      <td>117</td>\n",
       "      <td>NaN</td>\n",
       "      <td>NaN</td>\n",
       "      <td>(1, 28)</td>\n",
       "      <td>stock</td>\n",
       "    </tr>\n",
       "    <tr>\n",
       "      <td>BAYN.DE</td>\n",
       "      <td>(4, 28)</td>\n",
       "      <td>(1, 6)</td>\n",
       "      <td>NaN</td>\n",
       "      <td>(4, 18)</td>\n",
       "      <td>(4, 2)</td>\n",
       "      <td>(4, 22)</td>\n",
       "      <td>(5883, 7)</td>\n",
       "      <td>116</td>\n",
       "      <td>NaN</td>\n",
       "      <td>NaN</td>\n",
       "      <td>(1, 28)</td>\n",
       "      <td>stock</td>\n",
       "    </tr>\n",
       "    <tr>\n",
       "      <td>...</td>\n",
       "      <td>...</td>\n",
       "      <td>...</td>\n",
       "      <td>...</td>\n",
       "      <td>...</td>\n",
       "      <td>...</td>\n",
       "      <td>...</td>\n",
       "      <td>...</td>\n",
       "      <td>...</td>\n",
       "      <td>...</td>\n",
       "      <td>...</td>\n",
       "      <td>...</td>\n",
       "      <td>...</td>\n",
       "    </tr>\n",
       "    <tr>\n",
       "      <td>^STOXX50E</td>\n",
       "      <td>(6, 0)</td>\n",
       "      <td>NaN</td>\n",
       "      <td>NaN</td>\n",
       "      <td>(6, 0)</td>\n",
       "      <td>(0, 6)</td>\n",
       "      <td>(6, 0)</td>\n",
       "      <td>(8398, 7)</td>\n",
       "      <td>61</td>\n",
       "      <td>NaN</td>\n",
       "      <td>NaN</td>\n",
       "      <td>NaN</td>\n",
       "      <td>benchmark</td>\n",
       "    </tr>\n",
       "    <tr>\n",
       "      <td>^TA125.TA</td>\n",
       "      <td>(6, 0)</td>\n",
       "      <td>NaN</td>\n",
       "      <td>NaN</td>\n",
       "      <td>(6, 0)</td>\n",
       "      <td>(0, 6)</td>\n",
       "      <td>(6, 0)</td>\n",
       "      <td>(5551, 7)</td>\n",
       "      <td>61</td>\n",
       "      <td>NaN</td>\n",
       "      <td>NaN</td>\n",
       "      <td>NaN</td>\n",
       "      <td>benchmark</td>\n",
       "    </tr>\n",
       "    <tr>\n",
       "      <td>^TWII</td>\n",
       "      <td>(6, 0)</td>\n",
       "      <td>NaN</td>\n",
       "      <td>NaN</td>\n",
       "      <td>(6, 0)</td>\n",
       "      <td>(0, 6)</td>\n",
       "      <td>(6, 0)</td>\n",
       "      <td>(5544, 7)</td>\n",
       "      <td>61</td>\n",
       "      <td>NaN</td>\n",
       "      <td>NaN</td>\n",
       "      <td>NaN</td>\n",
       "      <td>benchmark</td>\n",
       "    </tr>\n",
       "    <tr>\n",
       "      <td>^VIX</td>\n",
       "      <td>(6, 0)</td>\n",
       "      <td>NaN</td>\n",
       "      <td>(38, 13)</td>\n",
       "      <td>(6, 0)</td>\n",
       "      <td>(0, 6)</td>\n",
       "      <td>(6, 0)</td>\n",
       "      <td>(7570, 7)</td>\n",
       "      <td>61</td>\n",
       "      <td>(38, 13)</td>\n",
       "      <td>NaN</td>\n",
       "      <td>NaN</td>\n",
       "      <td>benchmark</td>\n",
       "    </tr>\n",
       "    <tr>\n",
       "      <td>^XAX</td>\n",
       "      <td>(6, 0)</td>\n",
       "      <td>NaN</td>\n",
       "      <td>NaN</td>\n",
       "      <td>(6, 0)</td>\n",
       "      <td>(0, 6)</td>\n",
       "      <td>(6, 0)</td>\n",
       "      <td>(6056, 7)</td>\n",
       "      <td>61</td>\n",
       "      <td>NaN</td>\n",
       "      <td>NaN</td>\n",
       "      <td>NaN</td>\n",
       "      <td>benchmark</td>\n",
       "    </tr>\n",
       "  </tbody>\n",
       "</table>\n",
       "<p>98 rows × 12 columns</p>\n",
       "</div>"
      ],
      "text/plain": [
       "          balancesheet calendar     calls cashflow earnings financials  \\\n",
       "1COV.DE    (4, 28)      (1, 6)   NaN       (4, 20)  (4, 2)   (4, 22)     \n",
       "ADS.DE     (4, 27)      (1, 6)   NaN       (4, 19)  (4, 2)   (4, 22)     \n",
       "ALV.DE     (4, 27)      (1, 6)   NaN       (4, 2)   (4, 2)   (4, 22)     \n",
       "BAS.DE     (4, 27)      (1, 6)   NaN       (4, 20)  (0, 6)   (4, 22)     \n",
       "BAYN.DE    (4, 28)      (1, 6)   NaN       (4, 18)  (4, 2)   (4, 22)     \n",
       "...            ...         ...   ...           ...     ...       ...     \n",
       "^STOXX50E  (6, 0)       NaN      NaN       (6, 0)   (0, 6)   (6, 0)      \n",
       "^TA125.TA  (6, 0)       NaN      NaN       (6, 0)   (0, 6)   (6, 0)      \n",
       "^TWII      (6, 0)       NaN      NaN       (6, 0)   (0, 6)   (6, 0)      \n",
       "^VIX       (6, 0)       NaN      (38, 13)  (6, 0)   (0, 6)   (6, 0)      \n",
       "^XAX       (6, 0)       NaN      NaN       (6, 0)   (0, 6)   (6, 0)      \n",
       "\n",
       "             history  info      puts recommendations sustainability       type  \n",
       "1COV.DE    (1085, 7)  117   NaN       NaN             (1, 28)        stock      \n",
       "ADS.DE     (5512, 7)  118   NaN       (2, 4)          (1, 28)        stock      \n",
       "ALV.DE     (5873, 7)  117   NaN       NaN             (1, 28)        stock      \n",
       "BAS.DE     (5880, 7)  117   NaN       NaN             (1, 28)        stock      \n",
       "BAYN.DE    (5883, 7)  116   NaN       NaN             (1, 28)        stock      \n",
       "...              ...  ...   ...       ...                 ...          ...      \n",
       "^STOXX50E  (8398, 7)  61    NaN       NaN             NaN            benchmark  \n",
       "^TA125.TA  (5551, 7)  61    NaN       NaN             NaN            benchmark  \n",
       "^TWII      (5544, 7)  61    NaN       NaN             NaN            benchmark  \n",
       "^VIX       (7570, 7)  61    (38, 13)  NaN             NaN            benchmark  \n",
       "^XAX       (6056, 7)  61    NaN       NaN             NaN            benchmark  \n",
       "\n",
       "[98 rows x 12 columns]"
      ]
     },
     "execution_count": 12,
     "metadata": {},
     "output_type": "execute_result"
    }
   ],
   "source": [
    "df_stats"
   ]
  },
  {
   "cell_type": "code",
   "execution_count": null,
   "metadata": {},
   "outputs": [],
   "source": []
  },
  {
   "cell_type": "code",
   "execution_count": null,
   "metadata": {},
   "outputs": [],
   "source": []
  },
  {
   "cell_type": "code",
   "execution_count": null,
   "metadata": {},
   "outputs": [],
   "source": []
  },
  {
   "cell_type": "code",
   "execution_count": null,
   "metadata": {},
   "outputs": [],
   "source": []
  },
  {
   "cell_type": "code",
   "execution_count": null,
   "metadata": {},
   "outputs": [],
   "source": []
  },
  {
   "cell_type": "code",
   "execution_count": null,
   "metadata": {},
   "outputs": [],
   "source": []
  }
 ],
 "metadata": {
  "kernelspec": {
   "display_name": "Python 3",
   "language": "python",
   "name": "python3"
  },
  "language_info": {
   "codemirror_mode": {
    "name": "ipython",
    "version": 3
   },
   "file_extension": ".py",
   "mimetype": "text/x-python",
   "name": "python",
   "nbconvert_exporter": "python",
   "pygments_lexer": "ipython3",
   "version": "3.7.4"
  }
 },
 "nbformat": 4,
 "nbformat_minor": 4
}
